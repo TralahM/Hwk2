{
 "cells": [
  {
   "cell_type": "code",
   "execution_count": 1,
   "id": "8833ed9e",
   "metadata": {},
   "outputs": [],
   "source": [
    "import pandas as pd\n",
    "import numpy as np\n",
    "import scipy as sp\n",
    "import matplotlib.pyplot as plt\n",
    "import seaborn as sns\n",
    "%matplotlib inline"
   ]
  },
  {
   "cell_type": "markdown",
   "id": "033e4568",
   "metadata": {},
   "source": [
    "# importing data"
   ]
  },
  {
   "cell_type": "markdown",
   "id": "cc2b018d",
   "metadata": {},
   "source": [
    "### Training and test data"
   ]
  },
  {
   "cell_type": "code",
   "execution_count": 27,
   "id": "b76b8c55",
   "metadata": {},
   "outputs": [],
   "source": [
    "import warnings\n",
    "warnings.filterwarnings(action=\"ignore\",category=FutureWarning)\n",
    "import math\n",
    "\n",
    "def mean_squared_error(x,y):\n",
    "    y_p=np.asarray(y).reshape(-1)\n",
    "    return np.mean((x-y_p)**2)\n",
    "    "
   ]
  },
  {
   "cell_type": "code",
   "execution_count": 28,
   "id": "907e1d64",
   "metadata": {},
   "outputs": [
    {
     "data": {
      "text/html": [
       "<div>\n",
       "<style scoped>\n",
       "    .dataframe tbody tr th:only-of-type {\n",
       "        vertical-align: middle;\n",
       "    }\n",
       "\n",
       "    .dataframe tbody tr th {\n",
       "        vertical-align: top;\n",
       "    }\n",
       "\n",
       "    .dataframe thead th {\n",
       "        text-align: right;\n",
       "    }\n",
       "</style>\n",
       "<table border=\"1\" class=\"dataframe\">\n",
       "  <thead>\n",
       "    <tr style=\"text-align: right;\">\n",
       "      <th></th>\n",
       "      <th>X</th>\n",
       "      <th>y</th>\n",
       "    </tr>\n",
       "  </thead>\n",
       "  <tbody>\n",
       "    <tr>\n",
       "      <th>0</th>\n",
       "      <td>-0.1185</td>\n",
       "      <td>3.566426</td>\n",
       "    </tr>\n",
       "    <tr>\n",
       "      <th>1</th>\n",
       "      <td>2.9090</td>\n",
       "      <td>10.469470</td>\n",
       "    </tr>\n",
       "    <tr>\n",
       "      <th>2</th>\n",
       "      <td>0.6750</td>\n",
       "      <td>-2.294876</td>\n",
       "    </tr>\n",
       "    <tr>\n",
       "      <th>3</th>\n",
       "      <td>0.8235</td>\n",
       "      <td>-2.213631</td>\n",
       "    </tr>\n",
       "    <tr>\n",
       "      <th>4</th>\n",
       "      <td>-0.1110</td>\n",
       "      <td>3.541580</td>\n",
       "    </tr>\n",
       "  </tbody>\n",
       "</table>\n",
       "</div>"
      ],
      "text/plain": [
       "        X          y\n",
       "0 -0.1185   3.566426\n",
       "1  2.9090  10.469470\n",
       "2  0.6750  -2.294876\n",
       "3  0.8235  -2.213631\n",
       "4 -0.1110   3.541580"
      ]
     },
     "execution_count": 28,
     "metadata": {},
     "output_type": "execute_result"
    }
   ],
   "source": [
    "train_df=pd.read_csv(\"train.csv\")\n",
    "test_df=pd.read_csv(\"test.csv\")\n",
    "\n",
    "\n",
    "train_df.head()\n"
   ]
  },
  {
   "cell_type": "code",
   "execution_count": 29,
   "id": "b652e56d",
   "metadata": {},
   "outputs": [
    {
     "data": {
      "text/html": [
       "<div>\n",
       "<style scoped>\n",
       "    .dataframe tbody tr th:only-of-type {\n",
       "        vertical-align: middle;\n",
       "    }\n",
       "\n",
       "    .dataframe tbody tr th {\n",
       "        vertical-align: top;\n",
       "    }\n",
       "\n",
       "    .dataframe thead th {\n",
       "        text-align: right;\n",
       "    }\n",
       "</style>\n",
       "<table border=\"1\" class=\"dataframe\">\n",
       "  <thead>\n",
       "    <tr style=\"text-align: right;\">\n",
       "      <th></th>\n",
       "      <th>X</th>\n",
       "      <th>y</th>\n",
       "    </tr>\n",
       "  </thead>\n",
       "  <tbody>\n",
       "    <tr>\n",
       "      <th>0</th>\n",
       "      <td>2.8205</td>\n",
       "      <td>8.898277</td>\n",
       "    </tr>\n",
       "    <tr>\n",
       "      <th>1</th>\n",
       "      <td>1.5800</td>\n",
       "      <td>8.453817</td>\n",
       "    </tr>\n",
       "    <tr>\n",
       "      <th>2</th>\n",
       "      <td>2.3425</td>\n",
       "      <td>1.717662</td>\n",
       "    </tr>\n",
       "    <tr>\n",
       "      <th>3</th>\n",
       "      <td>-2.5415</td>\n",
       "      <td>-10.476481</td>\n",
       "    </tr>\n",
       "    <tr>\n",
       "      <th>4</th>\n",
       "      <td>-1.7935</td>\n",
       "      <td>-2.081427</td>\n",
       "    </tr>\n",
       "  </tbody>\n",
       "</table>\n",
       "</div>"
      ],
      "text/plain": [
       "        X          y\n",
       "0  2.8205   8.898277\n",
       "1  1.5800   8.453817\n",
       "2  2.3425   1.717662\n",
       "3 -2.5415 -10.476481\n",
       "4 -1.7935  -2.081427"
      ]
     },
     "execution_count": 29,
     "metadata": {},
     "output_type": "execute_result"
    }
   ],
   "source": [
    "test_df.head()"
   ]
  },
  {
   "cell_type": "code",
   "execution_count": 30,
   "id": "27428f91",
   "metadata": {},
   "outputs": [
    {
     "data": {
      "text/plain": [
       "(129, 2)"
      ]
     },
     "execution_count": 30,
     "metadata": {},
     "output_type": "execute_result"
    }
   ],
   "source": [
    "train_df.shape"
   ]
  },
  {
   "cell_type": "code",
   "execution_count": 31,
   "id": "6d72c3aa",
   "metadata": {},
   "outputs": [
    {
     "data": {
      "text/plain": [
       "(10, 2)"
      ]
     },
     "execution_count": 31,
     "metadata": {},
     "output_type": "execute_result"
    }
   ],
   "source": [
    "test_df.shape"
   ]
  },
  {
   "cell_type": "code",
   "execution_count": 32,
   "id": "6b63ba1d",
   "metadata": {},
   "outputs": [],
   "source": [
    "Data=[]"
   ]
  },
  {
   "cell_type": "markdown",
   "id": "0dbbe3aa",
   "metadata": {},
   "source": [
    "## Frequency k increment = 4"
   ]
  },
  {
   "cell_type": "markdown",
   "id": "bc72e7c3",
   "metadata": {},
   "source": [
    "# Linear Regression\n",
    "\n",
    "1. Consider a simplified fitting problem in the frequency domain where we are looking to find the best fit\n",
    "of data with a set of periodic (trigonometric) basis functions of the form 1, x, sin(x), cos(x), sin(k ∗\n",
    "x), cos(k ∗ x), sin(2 ∗ k ∗ x), cos(2 ∗ k ∗ x), ..., where k is effectively the frequency increment. The\n",
    "resulting function for a given ”frequency increment”, k, and ”function depth”, d, and parameter vector Θ\n",
    "is then:\n",
    "\n",
    "$$y = Θ_{0} ∗ 1 + Θ_{1} ∗ x + \\sum_{i=1}^{d}(Θ_{2*i} ∗ sin(i ∗ k ∗ x) + Θ_{2∗i+1} ∗ cos(i ∗ k ∗ x))$$\n",
    "\n",
    "\n",
    "For example, if k = 1 and d = 2, your basis (feature) functions are 1, x, sin(x), cos(x), sin(2x), cos(2x),\n",
    "and we are looking for the best matching parameters Θ for the function $$Θ_{0} + Θ_{1} ∗ x + Θ_{2} ∗ sin(x) +\n",
    "Θ_{3} ∗ cos(x) + Θ_{4}∗ sin(2x) + Θ_{5} ∗ cos(2x)$$.\n",
    "\n",
    "This means that this problem can be solved using linear\n",
    "regression as the function is linear in terms of the parameters Θ.\n",
    "You obtain your value for the ”frequency increment” k and thus your basis functions as part of the data\n",
    "generation process described above.\n",
    "\n",
    "a). Implement a linear regression learner to solve this best fit problem for 1 dimensional data. Make\n",
    "sure your implementation can handle fits for different ”function depths” (at least to ”depth” 6).\n",
    "\n",
    "b). Apply your regression learner to the data set that was generated for Question 1b) and plot the\n",
    "resulting function for ”function depth” 0, 1, 2, 3, 4, 5, and 6. Plot the resulting function together\n",
    "with the data points (using your favorite plotting program, e.g. Matlab, Octave, ...)\n",
    "\n",
    "c) Evaluate your regression functions by computing the error on the test data points that were generated\n",
    "for Question 1c). Compare the error results and try to determine for what polynomials overfitting\n",
    "might be a problem. Which order polynomial would you consider the best prediction function and\n",
    "why.\n",
    "\n",
    "\n",
    "d) Repeat the experiment and evaluation of part b) and c) using only the first 20 elements of the training\n",
    "data set part b) and the Test set of part c). What differences do you see and why might they occur ?\n",
    "\n"
   ]
  },
  {
   "cell_type": "code",
   "execution_count": 35,
   "id": "36f9a086",
   "metadata": {},
   "outputs": [
    {
     "data": {
      "text/plain": [
       "<__main__.LinearRegression at 0x7fed44d77f10>"
      ]
     },
     "execution_count": 35,
     "metadata": {},
     "output_type": "execute_result"
    },
    {
     "data": {
      "text/plain": [
       "<__main__.LinearRegression at 0x7fed643ef0d0>"
      ]
     },
     "execution_count": 35,
     "metadata": {},
     "output_type": "execute_result"
    },
    {
     "data": {
      "text/plain": [
       "<__main__.LinearRegression at 0x7fed30ca0280>"
      ]
     },
     "execution_count": 35,
     "metadata": {},
     "output_type": "execute_result"
    },
    {
     "data": {
      "text/plain": [
       "<__main__.LinearRegression at 0x7fed30dcd4e0>"
      ]
     },
     "execution_count": 35,
     "metadata": {},
     "output_type": "execute_result"
    },
    {
     "data": {
      "text/plain": [
       "<__main__.LinearRegression at 0x7fed643ef0a0>"
      ]
     },
     "execution_count": 35,
     "metadata": {},
     "output_type": "execute_result"
    },
    {
     "data": {
      "text/plain": [
       "<__main__.LinearRegression at 0x7fed6443edd0>"
      ]
     },
     "execution_count": 35,
     "metadata": {},
     "output_type": "execute_result"
    },
    {
     "data": {
      "text/plain": [
       "Text(0.5, 0.98, 'Question 1(a): Linear Regression using all elements(tau=0.1).')"
      ]
     },
     "execution_count": 35,
     "metadata": {},
     "output_type": "execute_result"
    },
    {
     "data": {
      "text/plain": [
       "<matplotlib.collections.PathCollection at 0x7fed44dafd90>"
      ]
     },
     "execution_count": 35,
     "metadata": {},
     "output_type": "execute_result"
    },
    {
     "data": {
      "text/plain": [
       "Text(0.5, 1.0, 'Function depth=0')"
      ]
     },
     "execution_count": 35,
     "metadata": {},
     "output_type": "execute_result"
    },
    {
     "data": {
      "text/plain": [
       "[<matplotlib.lines.Line2D at 0x7fed44cd7af0>]"
      ]
     },
     "execution_count": 35,
     "metadata": {},
     "output_type": "execute_result"
    },
    {
     "data": {
      "text/plain": [
       "<matplotlib.collections.PathCollection at 0x7fed44c117b0>"
      ]
     },
     "execution_count": 35,
     "metadata": {},
     "output_type": "execute_result"
    },
    {
     "data": {
      "text/plain": [
       "Text(0.5, 1.0, 'Function depth=1')"
      ]
     },
     "execution_count": 35,
     "metadata": {},
     "output_type": "execute_result"
    },
    {
     "data": {
      "text/plain": [
       "[<matplotlib.lines.Line2D at 0x7fed313140d0>]"
      ]
     },
     "execution_count": 35,
     "metadata": {},
     "output_type": "execute_result"
    },
    {
     "data": {
      "text/plain": [
       "<matplotlib.collections.PathCollection at 0x7fed44c11f30>"
      ]
     },
     "execution_count": 35,
     "metadata": {},
     "output_type": "execute_result"
    },
    {
     "data": {
      "text/plain": [
       "Text(0.5, 1.0, 'Function depth=2')"
      ]
     },
     "execution_count": 35,
     "metadata": {},
     "output_type": "execute_result"
    },
    {
     "data": {
      "text/plain": [
       "[<matplotlib.lines.Line2D at 0x7fed44b29300>]"
      ]
     },
     "execution_count": 35,
     "metadata": {},
     "output_type": "execute_result"
    },
    {
     "data": {
      "text/plain": [
       "<matplotlib.collections.PathCollection at 0x7fed44c12710>"
      ]
     },
     "execution_count": 35,
     "metadata": {},
     "output_type": "execute_result"
    },
    {
     "data": {
      "text/plain": [
       "Text(0.5, 1.0, 'Function depth=3')"
      ]
     },
     "execution_count": 35,
     "metadata": {},
     "output_type": "execute_result"
    },
    {
     "data": {
      "text/plain": [
       "[<matplotlib.lines.Line2D at 0x7fed30ca02e0>]"
      ]
     },
     "execution_count": 35,
     "metadata": {},
     "output_type": "execute_result"
    },
    {
     "data": {
      "text/plain": [
       "<matplotlib.collections.PathCollection at 0x7fed44c12ec0>"
      ]
     },
     "execution_count": 35,
     "metadata": {},
     "output_type": "execute_result"
    },
    {
     "data": {
      "text/plain": [
       "Text(0.5, 1.0, 'Function depth=4')"
      ]
     },
     "execution_count": 35,
     "metadata": {},
     "output_type": "execute_result"
    },
    {
     "data": {
      "text/plain": [
       "[<matplotlib.lines.Line2D at 0x7fed44bee7d0>]"
      ]
     },
     "execution_count": 35,
     "metadata": {},
     "output_type": "execute_result"
    },
    {
     "data": {
      "text/plain": [
       "<matplotlib.collections.PathCollection at 0x7fed44c13670>"
      ]
     },
     "execution_count": 35,
     "metadata": {},
     "output_type": "execute_result"
    },
    {
     "data": {
      "text/plain": [
       "Text(0.5, 1.0, 'Function depth=5')"
      ]
     },
     "execution_count": 35,
     "metadata": {},
     "output_type": "execute_result"
    },
    {
     "data": {
      "text/plain": [
       "[<matplotlib.lines.Line2D at 0x7fed44c13ac0>]"
      ]
     },
     "execution_count": 35,
     "metadata": {},
     "output_type": "execute_result"
    },
    {
     "data": {
      "image/png": "[encoded data removed]",
      "text/plain": [
       "<Figure size 1080x576 with 6 Axes>"
      ]
     },
     "metadata": {
      "needs_background": "light"
     },
     "output_type": "display_data"
    }
   ],
   "source": [
    "#Defining the class\n",
    "class LinearRegression() :\n",
    "      \n",
    "    def __init__( self, learning_rate, iterations ) :\n",
    "          \n",
    "        self.learning_rate = learning_rate\n",
    "          \n",
    "        self.iterations = iterations\n",
    "          \n",
    "    # Function for model training\n",
    "              \n",
    "    def fit( self, X, Y ) :\n",
    "          \n",
    "        # no_of_training_examples, no_of_features\n",
    "          \n",
    "        self.m, self.n = X.shape\n",
    "          \n",
    "        # weight initialization\n",
    "        #print(self.m,self.n)\n",
    "          \n",
    "        self.W = np.zeros( self.n )\n",
    "          \n",
    "        self.b = 0\n",
    "          \n",
    "        self.X = X\n",
    "          \n",
    "        self.Y = Y\n",
    "          \n",
    "          \n",
    "        # gradient descent learning\n",
    "                  \n",
    "        for i in range( self.iterations ) :\n",
    "              \n",
    "            self.update_weights()\n",
    "              \n",
    "        return self\n",
    "      \n",
    "    # Helper function to update weights in gradient descent\n",
    "      \n",
    "    def update_weights(self) :\n",
    "             \n",
    "        Y_pred = np.asarray(self.predict( self.X )).reshape(-1)\n",
    "          \n",
    "      \n",
    "        dW = - ( 2 * ( self.X.T).dot( self.Y - Y_pred )  ) / self.m\n",
    "        \n",
    "        \n",
    "        db = - 2 * np.sum( self.Y - Y_pred ) / self.m \n",
    "        # update weights\n",
    "      \n",
    "        self.W = self.W - self.learning_rate * dW\n",
    "      \n",
    "        self.b = self.b - self.learning_rate * db\n",
    "          \n",
    "        return self\n",
    "      \n",
    "    # Hypothetical function  h( x ) \n",
    "      \n",
    "    def predict( self, X ) :\n",
    "      \n",
    "        return X.dot( self.W.T ) + self.b\n",
    "     \n",
    "\n",
    "def logreg(X,d,k=4):\n",
    "    \"\"\"Return y of x based on theta vector, frequency increment k, and function depth d.\"\"\"\n",
    "    data=[]\n",
    "    \n",
    "    for i,x in enumerate(X):\n",
    "        data.append([1,x])\n",
    "        for p in range(1,d+1):\n",
    "            data[i].append(np.sin(i*k*x))\n",
    "            data[i].append(np.cos(i*k*x))\n",
    "    return np.matrix(data)\n",
    "\n",
    "def r2_score(x, y):\n",
    "    \"\"\" Return R^2 where x and y are array-like.\"\"\"\n",
    "    y_p=np.asarray(y).reshape(-1)\n",
    "    slope, intercept, r_value, p_value, std_err = sp.stats.linregress(x, y_p)\n",
    "    return r_value**2\n",
    "\n",
    "d0=logreg(train_df.X,0)\n",
    "d1=logreg(train_df.X,1)\n",
    "d2=logreg(train_df.X,2)\n",
    "d3=logreg(train_df.X,3)\n",
    "d4=logreg(train_df.X,4)\n",
    "d5=logreg(train_df.X,5)\n",
    "\n",
    "d0m=LinearRegression(0.0001,1000)\n",
    "d0m.fit(d0,train_df.y)\n",
    "\n",
    "d1m=LinearRegression(0.0001,1000)\n",
    "d1m.fit(d1,train_df.y)\n",
    "\n",
    "d2m=LinearRegression(0.0001,1000)\n",
    "d2m.fit(d2,train_df.y)\n",
    "\n",
    "d3m=LinearRegression(0.0001,1000)\n",
    "d3m.fit(d3,train_df.y)\n",
    "\n",
    "d4m=LinearRegression(0.0001,1000)\n",
    "d4m.fit(d4,train_df.y)\n",
    "\n",
    "d5m=LinearRegression(0.0001,1000)\n",
    "d5m.fit(d5,train_df.y)\n",
    "\n",
    "\n",
    "#print(d0m.coef_,d1m.coef_,d2m.coef_,d3m.coef_,d4m.coef_,d5m.coef_,sep=\"\\n\\n\")\n",
    "\n",
    "\n",
    "err0=mean_squared_error(test_df.y,d0m.predict(logreg(test_df.X,0)))\n",
    "err1=mean_squared_error(test_df.y,d1m.predict(logreg(test_df.X,1)))\n",
    "err2=mean_squared_error(test_df.y,d2m.predict(logreg(test_df.X,2)))\n",
    "err3=mean_squared_error(test_df.y,d3m.predict(logreg(test_df.X,3)))\n",
    "err4=mean_squared_error(test_df.y,d4m.predict(logreg(test_df.X,4)))\n",
    "err5=mean_squared_error(test_df.y,d5m.predict(logreg(test_df.X,5)))\n",
    "\n",
    "\n",
    "acc0=r2_score(test_df.y,d0m.predict(logreg(test_df.X,0)))\n",
    "acc1=r2_score(test_df.y,d1m.predict(logreg(test_df.X,1)))\n",
    "acc2=r2_score(test_df.y,d2m.predict(logreg(test_df.X,2)))\n",
    "acc3=r2_score(test_df.y,d3m.predict(logreg(test_df.X,3)))\n",
    "acc4=r2_score(test_df.y,d4m.predict(logreg(test_df.X,4)))\n",
    "acc5=r2_score(test_df.y,d5m.predict(logreg(test_df.X,5)))\n",
    "\n",
    "accs=[acc0,acc1,acc2,acc3,acc4,acc5]\n",
    "errs=[err0,err1,err2,err3,err4,err5]\n",
    "Data.append({\"mse\":errs,\"r2_score\":accs})\n",
    "\n",
    "#print(err0,err1,err2,err3,err4,err5,sep='\\n\\n')\n",
    "\n",
    "#print(f\"{acc0*100}%\",f\"{acc1*100}%\",f\"{acc2*100}%\",f\"{acc3*100}%\",f\"{acc4*100}%\",f\"{acc5*100}%\",sep='\\n\\n')\n",
    "\n",
    "\n",
    "models=[d0m,d1m,d2m,d3m,d4m,d5m]\n",
    "fig,((ax0,ax1,ax2),(ax3,ax4,ax5))=plt.subplots(2,3,figsize=(15,8))\n",
    "axes=[ax0,ax1,ax2,ax3,ax4,ax5]\n",
    "\n",
    "xsort=test_df.X.copy()\n",
    "xsort.sort_values(axis=0,inplace=True)\n",
    "fig.suptitle(\"Question 1(a): Linear Regression using all elements(tau=0.1).\")\n",
    "for i,mod in enumerate(models):\n",
    "    axes[i].scatter(train_df.X,train_df.y)\n",
    "    axes[i].set_title(f\"Function depth={i}\")\n",
    "    axes[i].plot(xsort,mod.predict(logreg(test_df.X,i))[test_df.X.argsort(0)],color='g')\n",
    "plt.savefig(\"1a.png\")"
   ]
  },
  {
   "cell_type": "code",
   "execution_count": null,
   "id": "ee74da74",
   "metadata": {},
   "outputs": [],
   "source": []
  },
  {
   "cell_type": "code",
   "execution_count": 36,
   "id": "370b304d",
   "metadata": {},
   "outputs": [
    {
     "data": {
      "text/plain": [
       "<__main__.LinearRegression at 0x7fed44ac47f0>"
      ]
     },
     "execution_count": 36,
     "metadata": {},
     "output_type": "execute_result"
    },
    {
     "data": {
      "text/plain": [
       "<__main__.LinearRegression at 0x7fed2e857fa0>"
      ]
     },
     "execution_count": 36,
     "metadata": {},
     "output_type": "execute_result"
    },
    {
     "data": {
      "text/plain": [
       "<__main__.LinearRegression at 0x7fed30dfbee0>"
      ]
     },
     "execution_count": 36,
     "metadata": {},
     "output_type": "execute_result"
    },
    {
     "data": {
      "text/plain": [
       "<__main__.LinearRegression at 0x7fed2e856980>"
      ]
     },
     "execution_count": 36,
     "metadata": {},
     "output_type": "execute_result"
    },
    {
     "data": {
      "text/plain": [
       "<__main__.LinearRegression at 0x7fed2e856800>"
      ]
     },
     "execution_count": 36,
     "metadata": {},
     "output_type": "execute_result"
    },
    {
     "data": {
      "text/plain": [
       "<__main__.LinearRegression at 0x7fed2e8577f0>"
      ]
     },
     "execution_count": 36,
     "metadata": {},
     "output_type": "execute_result"
    },
    {
     "name": "stdout",
     "output_type": "stream",
     "text": [
      "18.334555455787225\n",
      "\n",
      "17.60231107487261\n",
      "\n",
      "17.018337276723685\n",
      "\n",
      "16.55395738783937\n",
      "\n",
      "16.185953936471442\n",
      "\n",
      "15.895538971850034\n",
      "\n",
      "\n",
      "88.15964485258765%\n",
      "\n",
      "87.90986697395854%\n",
      "\n",
      "87.4021947438815%\n",
      "\n",
      "86.76028850713946%\n",
      "\n",
      "86.06136172788241%\n",
      "\n",
      "85.35261418804328%\n"
     ]
    },
    {
     "data": {
      "text/plain": [
       "Text(0.5, 0.98, 'Question 1(b): Linear Regression using First 20 elements(tau=0.1).')"
      ]
     },
     "execution_count": 36,
     "metadata": {},
     "output_type": "execute_result"
    },
    {
     "data": {
      "text/plain": [
       "<matplotlib.collections.PathCollection at 0x7fed4484b640>"
      ]
     },
     "execution_count": 36,
     "metadata": {},
     "output_type": "execute_result"
    },
    {
     "data": {
      "text/plain": [
       "Text(0.5, 1.0, 'Function depth=0')"
      ]
     },
     "execution_count": 36,
     "metadata": {},
     "output_type": "execute_result"
    },
    {
     "data": {
      "text/plain": [
       "[<matplotlib.lines.Line2D at 0x7fed4484ba30>]"
      ]
     },
     "execution_count": 36,
     "metadata": {},
     "output_type": "execute_result"
    },
    {
     "data": {
      "text/plain": [
       "<matplotlib.collections.PathCollection at 0x7fed4484be20>"
      ]
     },
     "execution_count": 36,
     "metadata": {},
     "output_type": "execute_result"
    },
    {
     "data": {
      "text/plain": [
       "Text(0.5, 1.0, 'Function depth=1')"
      ]
     },
     "execution_count": 36,
     "metadata": {},
     "output_type": "execute_result"
    },
    {
     "data": {
      "text/plain": [
       "[<matplotlib.lines.Line2D at 0x7fed644bb010>]"
      ]
     },
     "execution_count": 36,
     "metadata": {},
     "output_type": "execute_result"
    },
    {
     "data": {
      "text/plain": [
       "<matplotlib.collections.PathCollection at 0x7fed44878610>"
      ]
     },
     "execution_count": 36,
     "metadata": {},
     "output_type": "execute_result"
    },
    {
     "data": {
      "text/plain": [
       "Text(0.5, 1.0, 'Function depth=2')"
      ]
     },
     "execution_count": 36,
     "metadata": {},
     "output_type": "execute_result"
    },
    {
     "data": {
      "text/plain": [
       "[<matplotlib.lines.Line2D at 0x7fed4484bd90>]"
      ]
     },
     "execution_count": 36,
     "metadata": {},
     "output_type": "execute_result"
    },
    {
     "data": {
      "text/plain": [
       "<matplotlib.collections.PathCollection at 0x7fed44848bb0>"
      ]
     },
     "execution_count": 36,
     "metadata": {},
     "output_type": "execute_result"
    },
    {
     "data": {
      "text/plain": [
       "Text(0.5, 1.0, 'Function depth=3')"
      ]
     },
     "execution_count": 36,
     "metadata": {},
     "output_type": "execute_result"
    },
    {
     "data": {
      "text/plain": [
       "[<matplotlib.lines.Line2D at 0x7fed44848b80>]"
      ]
     },
     "execution_count": 36,
     "metadata": {},
     "output_type": "execute_result"
    },
    {
     "data": {
      "text/plain": [
       "<matplotlib.collections.PathCollection at 0x7fed44879330>"
      ]
     },
     "execution_count": 36,
     "metadata": {},
     "output_type": "execute_result"
    },
    {
     "data": {
      "text/plain": [
       "Text(0.5, 1.0, 'Function depth=4')"
      ]
     },
     "execution_count": 36,
     "metadata": {},
     "output_type": "execute_result"
    },
    {
     "data": {
      "text/plain": [
       "[<matplotlib.lines.Line2D at 0x7fed44848a60>]"
      ]
     },
     "execution_count": 36,
     "metadata": {},
     "output_type": "execute_result"
    },
    {
     "data": {
      "text/plain": [
       "<matplotlib.collections.PathCollection at 0x7fed44879b40>"
      ]
     },
     "execution_count": 36,
     "metadata": {},
     "output_type": "execute_result"
    },
    {
     "data": {
      "text/plain": [
       "Text(0.5, 1.0, 'Function depth=5')"
      ]
     },
     "execution_count": 36,
     "metadata": {},
     "output_type": "execute_result"
    },
    {
     "data": {
      "text/plain": [
       "[<matplotlib.lines.Line2D at 0x7fed449efee0>]"
      ]
     },
     "execution_count": 36,
     "metadata": {},
     "output_type": "execute_result"
    },
    {
     "data": {
      "image/png": "[encoded data removed]",
      "text/plain": [
       "<Figure size 1080x576 with 6 Axes>"
      ]
     },
     "metadata": {
      "needs_background": "light"
     },
     "output_type": "display_data"
    }
   ],
   "source": [
    "# Repeat evaluation using first 20 elements of trainset\n",
    "d0a=logreg(train_df.X.iloc[0:20],0)\n",
    "d1a=logreg(train_df.X.iloc[0:20],1)\n",
    "d2a=logreg(train_df.X.iloc[0:20],2)\n",
    "d3a=logreg(train_df.X.iloc[0:20],3)\n",
    "d4a=logreg(train_df.X.iloc[0:20],4)\n",
    "d5a=logreg(train_df.X.iloc[0:20],5)\n",
    "\n",
    "d0am=LinearRegression(0.0001,1000)\n",
    "d0am.fit(d0a,train_df.iloc[0:20].y)\n",
    "\n",
    "d1am=LinearRegression(0.0001,1000)\n",
    "d1am.fit(d1a,train_df.iloc[0:20].y)\n",
    "\n",
    "d2am=LinearRegression(0.0001,1000)\n",
    "d2am.fit(d2a,train_df.iloc[0:20].y)\n",
    "\n",
    "d3am=LinearRegression(0.0001,1000)\n",
    "d3am.fit(d3a,train_df.iloc[0:20].y)\n",
    "\n",
    "d4am=LinearRegression(0.0001,1000)\n",
    "d4am.fit(d4a,train_df.iloc[0:20].y)\n",
    "\n",
    "d5am=LinearRegression(0.0001,1000)\n",
    "d5am.fit(d5a,train_df.iloc[0:20].y)\n",
    "\n",
    "err0a=mean_squared_error(test_df.y,d0am.predict(logreg(test_df.X,0)))\n",
    "err1a=mean_squared_error(test_df.y,d1am.predict(logreg(test_df.X,1)))\n",
    "err2a=mean_squared_error(test_df.y,d2am.predict(logreg(test_df.X,2)))\n",
    "err3a=mean_squared_error(test_df.y,d3am.predict(logreg(test_df.X,3)))\n",
    "err4a=mean_squared_error(test_df.y,d4am.predict(logreg(test_df.X,4)))\n",
    "err5a=mean_squared_error(test_df.y,d5am.predict(logreg(test_df.X,5)))\n",
    "\n",
    "\n",
    "acc0a=r2_score(test_df.y,d0am.predict(logreg(test_df.X,0)))\n",
    "acc1a=r2_score(test_df.y,d1am.predict(logreg(test_df.X,1)))\n",
    "acc2a=r2_score(test_df.y,d2am.predict(logreg(test_df.X,2)))\n",
    "acc3a=r2_score(test_df.y,d3am.predict(logreg(test_df.X,3)))\n",
    "acc4a=r2_score(test_df.y,d4am.predict(logreg(test_df.X,4)))\n",
    "acc5a=r2_score(test_df.y,d5am.predict(logreg(test_df.X,5)))\n",
    "\n",
    "accs=[acc0a,acc1a,acc2a,acc3a,acc4a,acc5a]\n",
    "erras=[err0a,err1a,err2a,err3a,err4a,err5a]\n",
    "\n",
    "Data.append({\"mse\":erras,\"r2_score\":accs})\n",
    "print(err0a,err1a,err2a,err3a,err4a,err5a,sep='\\n\\n')\n",
    "print(\"\\n\")\n",
    "\n",
    "print(f\"{acc0a*100}%\",f\"{acc1a*100}%\",f\"{acc2a*100}%\",f\"{acc3a*100}%\",f\"{acc4a*100}%\",f\"{acc5a*100}%\",sep='\\n\\n')\n",
    "\n",
    "models=[d0am,d1am,d2am,d3am,d4am,d5am]\n",
    "fig,((ax0,ax1,ax2),(ax3,ax4,ax5))=plt.subplots(2,3,figsize=(15,8))\n",
    "axes=[ax0,ax1,ax2,ax3,ax4,ax5]\n",
    "xsort=test_df.X.copy()\n",
    "xsort.sort_values(axis=0,inplace=True)\n",
    "fig.suptitle(\"Question 1(b): Linear Regression using First 20 elements(tau=0.1).\")\n",
    "for i,mod in enumerate(models):\n",
    "    axes[i].scatter(train_df.X,train_df.y)\n",
    "    axes[i].set_title(f\"Function depth={i}\")\n",
    "    axes[i].plot(xsort,mod.predict(logreg(test_df.X,i))[test_df.X.argsort(0)],color='r')\n",
    "plt.savefig(\"1b.png\")"
   ]
  },
  {
   "cell_type": "code",
   "execution_count": 37,
   "id": "8dd8120f",
   "metadata": {},
   "outputs": [
    {
     "data": {
      "text/plain": [
       "[None, None, None]"
      ]
     },
     "execution_count": 37,
     "metadata": {},
     "output_type": "execute_result"
    },
    {
     "data": {
      "text/plain": [
       "[{'mse': [20.781787382596434,\n",
       "   20.519965064665662,\n",
       "   20.294385011660623,\n",
       "   20.09957155606424,\n",
       "   19.930937788664696,\n",
       "   19.784634337006448],\n",
       "  'r2_score': [0.6156099690112055,\n",
       "   0.6204527617436173,\n",
       "   0.624625199944851,\n",
       "   0.6282285642202665,\n",
       "   0.631347696270032,\n",
       "   0.6340537959563264],\n",
       "  'name': 'part_0'},\n",
       " {'mse': [20.781787382596434,\n",
       "   20.519965064665662,\n",
       "   20.294385011660623,\n",
       "   20.09957155606424,\n",
       "   19.930937788664696,\n",
       "   19.784634337006448],\n",
       "  'r2_score': [0.8815964485258763,\n",
       "   0.8788213031724262,\n",
       "   0.8757546710368447,\n",
       "   0.8725716166064833,\n",
       "   0.8693910806511123,\n",
       "   0.8662920356544491],\n",
       "  'name': 'part_1'},\n",
       " {'mse': [18.334555455787225,\n",
       "   17.60231107487261,\n",
       "   17.018337276723685,\n",
       "   16.55395738783937,\n",
       "   16.185953936471442,\n",
       "   15.895538971850034],\n",
       "  'r2_score': [0.8815964485258765,\n",
       "   0.8790986697395855,\n",
       "   0.8740219474388149,\n",
       "   0.8676028850713946,\n",
       "   0.8606136172788241,\n",
       "   0.8535261418804327],\n",
       "  'name': 'part_2'}]"
      ]
     },
     "execution_count": 37,
     "metadata": {},
     "output_type": "execute_result"
    }
   ],
   "source": [
    "[Data[i].update({\"name\":f\"part_{i}\"}) for i in range(len(Data))]\n",
    "Data\n",
    "\n",
    "import json\n",
    "with open(\"q1.json\",\"w\") as wf:\n",
    "    json.dump(Data,wf)"
   ]
  },
  {
   "cell_type": "code",
   "execution_count": 38,
   "id": "87296259",
   "metadata": {},
   "outputs": [
    {
     "data": {
      "text/html": [
       "<div>\n",
       "<style scoped>\n",
       "    .dataframe tbody tr th:only-of-type {\n",
       "        vertical-align: middle;\n",
       "    }\n",
       "\n",
       "    .dataframe tbody tr th {\n",
       "        vertical-align: top;\n",
       "    }\n",
       "\n",
       "    .dataframe thead th {\n",
       "        text-align: right;\n",
       "    }\n",
       "</style>\n",
       "<table border=\"1\" class=\"dataframe\">\n",
       "  <thead>\n",
       "    <tr style=\"text-align: right;\">\n",
       "      <th></th>\n",
       "      <th>mse_all</th>\n",
       "      <th>mse_20</th>\n",
       "      <th>r2_all</th>\n",
       "      <th>r2_20</th>\n",
       "    </tr>\n",
       "  </thead>\n",
       "  <tbody>\n",
       "    <tr>\n",
       "      <th>0</th>\n",
       "      <td>20.781787</td>\n",
       "      <td>20.781787</td>\n",
       "      <td>0.615610</td>\n",
       "      <td>0.881596</td>\n",
       "    </tr>\n",
       "    <tr>\n",
       "      <th>1</th>\n",
       "      <td>20.519965</td>\n",
       "      <td>20.519965</td>\n",
       "      <td>0.620453</td>\n",
       "      <td>0.878821</td>\n",
       "    </tr>\n",
       "    <tr>\n",
       "      <th>2</th>\n",
       "      <td>20.294385</td>\n",
       "      <td>20.294385</td>\n",
       "      <td>0.624625</td>\n",
       "      <td>0.875755</td>\n",
       "    </tr>\n",
       "    <tr>\n",
       "      <th>3</th>\n",
       "      <td>20.099572</td>\n",
       "      <td>20.099572</td>\n",
       "      <td>0.628229</td>\n",
       "      <td>0.872572</td>\n",
       "    </tr>\n",
       "    <tr>\n",
       "      <th>4</th>\n",
       "      <td>19.930938</td>\n",
       "      <td>19.930938</td>\n",
       "      <td>0.631348</td>\n",
       "      <td>0.869391</td>\n",
       "    </tr>\n",
       "    <tr>\n",
       "      <th>5</th>\n",
       "      <td>19.784634</td>\n",
       "      <td>19.784634</td>\n",
       "      <td>0.634054</td>\n",
       "      <td>0.866292</td>\n",
       "    </tr>\n",
       "  </tbody>\n",
       "</table>\n",
       "</div>"
      ],
      "text/plain": [
       "     mse_all     mse_20    r2_all     r2_20\n",
       "0  20.781787  20.781787  0.615610  0.881596\n",
       "1  20.519965  20.519965  0.620453  0.878821\n",
       "2  20.294385  20.294385  0.624625  0.875755\n",
       "3  20.099572  20.099572  0.628229  0.872572\n",
       "4  19.930938  19.930938  0.631348  0.869391\n",
       "5  19.784634  19.784634  0.634054  0.866292"
      ]
     },
     "execution_count": 38,
     "metadata": {},
     "output_type": "execute_result"
    }
   ],
   "source": [
    "d1f=pd.DataFrame.from_dict(Data)\n",
    "df=pd.DataFrame()\n",
    "df[\"mse_all\"]=d1f.mse[0]\n",
    "df[\"mse_20\"]=d1f.mse[1]\n",
    "df[\"r2_all\"]=d1f.r2_score[0]\n",
    "df[\"r2_20\"]=d1f.r2_score[1]\n",
    "df"
   ]
  },
  {
   "cell_type": "code",
   "execution_count": null,
   "id": "809ad646",
   "metadata": {},
   "outputs": [],
   "source": []
  },
  {
   "cell_type": "code",
   "execution_count": 39,
   "id": "4fcdbb68",
   "metadata": {},
   "outputs": [],
   "source": [
    "Data=[]"
   ]
  },
  {
   "cell_type": "markdown",
   "id": "fabaa46f",
   "metadata": {},
   "source": [
    "# Locally Weighted Linear Regression\n",
    "\n",
    "2. Another way to address nonlinear functions with a lower likelihood of overfitting is the use of locally weighted linear regression where the neighborhood function addresses non-linearity and the feature vector stays simple. In this case we assume that we will use only the raw feature, x, as well as the bias (i.e.\n",
    "a constant feature 1).\n",
    "Thus the locally applied regression function is $$y = Θ_{0} + Θ_{1} ∗ x.$$\n",
    "\n",
    "As discussed in class, locally weighted linear regression solves a linear regression problem for each query\n",
    "point, deriving a local approximation for the shape of the function at that point (as well as for its value).\n",
    "To achieve this, it uses a modified error function that applies a weight to each data point’s error that is\n",
    "related to its distance from the query point. Here we will assume that the weight function for the ith data\n",
    "point and query point x is: $$w^{i} (x) = e^{-\\frac{(x^{i}-x)^{2}}{(2γ^{2})}}$$\n",
    "\n",
    "where γ is a measure of the ”locality” of the weight function, indicating how fast the influence of a data\n",
    "point changes with its distance from the query point.\n",
    "Your value for γ is provided during data generation.\n",
    "a) Implement a locally weighted linear regression learner to solve the best fit problem for 1 dimen-\n",
    "sional data.\n",
    "\n",
    "b) Apply your locally weighted linear regression learner to the data set that was generated for Ques-\n",
    "tion 1b) and plot the resulting function together with the data points (using your favorite plotting\n",
    "program, e.g. Matlab, Octave, ...)\n",
    "\n",
    "c) Evaluate the locally weighted linear regression on the Test data from Question 1 c). How does the\n",
    "performance compare to the one for the results from Question 1 c) ?\n",
    "\n",
    "d) Repeat the experiment and evaluation of part b) and c) using only the first 20 elements of the training\n",
    "data set. How does the performance compare to the one for the results from Question 1 d) ? Why\n",
    "might this be the case ?\n",
    "\n",
    "e) Given the results form parts c) and d), do you believe the data set you used was actually derived\n",
    "from a function that is consistent with the function format in Question 1 ? Justify your answer.\n"
   ]
  },
  {
   "cell_type": "markdown",
   "id": "52b77213",
   "metadata": {},
   "source": [
    "## Question 2 weight scaling factor γ : 0.1"
   ]
  },
  {
   "cell_type": "code",
   "execution_count": 40,
   "id": "7be15f2f",
   "metadata": {},
   "outputs": [
    {
     "name": "stdout",
     "output_type": "stream",
     "text": [
      "0.3566811437504075\n",
      "\n",
      "\n",
      "99.0171722066146%\n"
     ]
    },
    {
     "data": {
      "text/plain": [
       "<matplotlib.collections.PathCollection at 0x7fed449c9d50>"
      ]
     },
     "execution_count": 40,
     "metadata": {},
     "output_type": "execute_result"
    },
    {
     "data": {
      "text/plain": [
       "Text(0.5, 1.0, 'Question 2a: Locally Weighted Linear Regression using all elements(tau=0.1)')"
      ]
     },
     "execution_count": 40,
     "metadata": {},
     "output_type": "execute_result"
    },
    {
     "data": {
      "text/plain": [
       "[<matplotlib.lines.Line2D at 0x7fed448fffa0>]"
      ]
     },
     "execution_count": 40,
     "metadata": {},
     "output_type": "execute_result"
    },
    {
     "data": {
      "image/png": "[encoded data removed]",
      "text/plain": [
       "<Figure size 864x576 with 1 Axes>"
      ]
     },
     "metadata": {
      "needs_background": "light"
     },
     "output_type": "display_data"
    }
   ],
   "source": [
    "def kernel(pt,X,tau):\n",
    "    m,n=np.shape(X)\n",
    "    weights=np.mat(np.eye((m)))\n",
    "    for j in range(m):\n",
    "        diff=pt-X[j]\n",
    "        weights[j,j]=np.exp(diff*diff.T / (-2 * (tau **2)))\n",
    "    return weights\n",
    "\n",
    "def lweight(pt,X,Y,tau):\n",
    "    wt=kernel(pt,X,tau)\n",
    "    w_x=(X.T*(wt*X)).I*(X.T*wt*Y.T)\n",
    "    return w_x\n",
    "\n",
    "def lweightedreg(X,Y,tau=0.1):\n",
    "    m,n=np.shape(X)\n",
    "    X=np.mat(X)\n",
    "    Y=np.mat(Y)\n",
    "    y_pred=np.zeros(m)\n",
    "    for i in range(m):\n",
    "        y_pred[i]=X[i]*lweight(X[i],X,Y,tau)\n",
    "        \n",
    "    return y_pred\n",
    "\n",
    "\n",
    "\n",
    "\n",
    "def logregW(X,k=4):\n",
    "    \"\"\"Return y of x based.\"\"\"\n",
    "    data=[]\n",
    "    \n",
    "    for i,x in enumerate(X):\n",
    "        data.append([x])\n",
    "    return np.asarray(data)\n",
    "\n",
    "\n",
    "\n",
    "d0aw=logregW(train_df.X)\n",
    "d1aw=logregW(train_df.X)\n",
    "d2aw=logregW(train_df.X)\n",
    "d3aw=logregW(train_df.X)\n",
    "d4aw=logregW(train_df.X)\n",
    "d5aw=logregW(train_df.X)\n",
    "\n",
    "d0amw=lweightedreg(d0aw,train_df.y)\n",
    "#d0amw.fit(d0aw,train_df.y)\n",
    "\n",
    "d1amw=lweightedreg(d1aw,train_df.y)\n",
    "#d1amw.fit(d1aw,train_df.y)\n",
    "\n",
    "d2amw=lweightedreg(d2aw,train_df.y)\n",
    "#d2amw.fit(d2aw,train_df.y)\n",
    "\n",
    "d3amw=lweightedreg(d3aw,train_df.y)\n",
    "#d3amw.fit(d3aw,train_df.y)\n",
    "\n",
    "d4amw=lweightedreg(d4aw,train_df.y)\n",
    "#d4amw.fit(d4aw,train_df.y)\n",
    "\n",
    "d5amw=lweightedreg(d5aw,train_df.y)\n",
    "#d5amw.fit(d5aw,train_df.y)\n",
    "#print(d0amw)\n",
    "\n",
    "err0aw=mean_squared_error(train_df.y,d0amw)\n",
    "err1aw=mean_squared_error(train_df.y,d1amw)\n",
    "err2aw=mean_squared_error(train_df.y,d2amw)\n",
    "err3aw=mean_squared_error(train_df.y,d3amw)\n",
    "err4aw=mean_squared_error(train_df.y,d4amw)\n",
    "err5aw=mean_squared_error(train_df.y,d5amw)\n",
    "\n",
    "\n",
    "acc0aw=r2_score(train_df.y,d0amw)\n",
    "acc1aw=r2_score(train_df.y,d1amw)\n",
    "acc2aw=r2_score(train_df.y,d2amw)\n",
    "acc3aw=r2_score(train_df.y,d3amw)\n",
    "acc4aw=r2_score(train_df.y,d4amw)\n",
    "acc5aw=r2_score(train_df.y,d5amw)\n",
    "\n",
    "accsw=[acc0aw,acc1aw,acc2aw,acc3aw,acc4aw,acc5aw]\n",
    "errsw=[err0aw,err1aw,err2aw,acc3aw,err4aw,err5aw]\n",
    "\n",
    "print(err0aw,sep='\\n\\n')\n",
    "print(\"\\n\")\n",
    "\n",
    "print(f\"{acc0aw*100}%\",sep='\\n\\n')\n",
    "Data.append({\"mse\":errsw[0],\"r2_score\":accsw[0]})\n",
    "models=[d0amw]\n",
    "fig,ax=plt.subplots(1,1,figsize=(12,8))\n",
    "axes=[ax]\n",
    "xsort=train_df.X.copy()\n",
    "xsort.sort_values(axis=0,inplace=True)\n",
    "for i,mod in enumerate(models):\n",
    "    axes[i].scatter(train_df.X,train_df.y)\n",
    "    axes[i].set_title(f\"Question 2a: Locally Weighted Linear Regression using all elements(tau=0.1)\")\n",
    "    axes[i].plot(xsort,mod[train_df.X.argsort(0)],color='y')\n",
    "plt.savefig(\"2a.png\")"
   ]
  },
  {
   "cell_type": "code",
   "execution_count": 41,
   "id": "c8b6dc77",
   "metadata": {},
   "outputs": [
    {
     "name": "stdout",
     "output_type": "stream",
     "text": [
      "0.09402456730116786\n",
      "\n",
      "\n",
      "99.76729318163619%\n"
     ]
    },
    {
     "data": {
      "text/plain": [
       "<matplotlib.collections.PathCollection at 0x7fed447d0af0>"
      ]
     },
     "execution_count": 41,
     "metadata": {},
     "output_type": "execute_result"
    },
    {
     "data": {
      "text/plain": [
       "Text(0.5, 1.0, 'Question 2b:Locally Weighted Linear Regression: first 20 elements(tau=0.1)')"
      ]
     },
     "execution_count": 41,
     "metadata": {},
     "output_type": "execute_result"
    },
    {
     "data": {
      "text/plain": [
       "[<matplotlib.lines.Line2D at 0x7fed30d1ffd0>]"
      ]
     },
     "execution_count": 41,
     "metadata": {},
     "output_type": "execute_result"
    },
    {
     "data": {
      "image/png": "[encoded data removed]",
      "text/plain": [
       "<Figure size 864x576 with 1 Axes>"
      ]
     },
     "metadata": {
      "needs_background": "light"
     },
     "output_type": "display_data"
    }
   ],
   "source": [
    "d0aw=logregW(train_df.X.iloc[0:20])\n",
    "d1aw=logregW(train_df.X.iloc[0:20])\n",
    "d2aw=logregW(train_df.X.iloc[0:20])\n",
    "d3aw=logregW(train_df.X.iloc[0:20])\n",
    "d4aw=logregW(train_df.X.iloc[0:20])\n",
    "d5aw=logregW(train_df.X.iloc[0:20])\n",
    "\n",
    "d0amw=lweightedreg(d0aw,train_df.y.iloc[0:20])\n",
    "#d0amw.fit(d0aw,train_df.y)\n",
    "\n",
    "d1amw=lweightedreg(d1aw,train_df.y.iloc[0:20])\n",
    "#d1amw.fit(d1aw,train_df.y)\n",
    "\n",
    "d2amw=lweightedreg(d2aw,train_df.y.iloc[0:20])\n",
    "#d2amw.fit(d2aw,train_df.y)\n",
    "\n",
    "d3amw=lweightedreg(d3aw,train_df.y.iloc[0:20])\n",
    "#d3amw.fit(d3aw,train_df.y)\n",
    "\n",
    "d4amw=lweightedreg(d4aw,train_df.y.iloc[0:20])\n",
    "#d4amw.fit(d4aw,train_df.y)\n",
    "\n",
    "d5amw=lweightedreg(d5aw,train_df.y.iloc[0:20])\n",
    "#d5amw.fit(d5aw,train_df.y)\n",
    "#print(d0amw)\n",
    "\n",
    "err0aw=mean_squared_error(train_df.y.iloc[0:20],d0amw)\n",
    "err1aw=mean_squared_error(train_df.y.iloc[0:20],d1amw)\n",
    "err2aw=mean_squared_error(train_df.y.iloc[0:20],d2amw)\n",
    "err3aw=mean_squared_error(train_df.y.iloc[0:20],d3amw)\n",
    "err4aw=mean_squared_error(train_df.y.iloc[0:20],d4amw)\n",
    "err5aw=mean_squared_error(train_df.y.iloc[0:20],d5amw)\n",
    "\n",
    "\n",
    "acc0aw=r2_score(train_df.y.iloc[0:20],d0amw)\n",
    "acc1aw=r2_score(train_df.y.iloc[0:20],d1amw)\n",
    "acc2aw=r2_score(train_df.y.iloc[0:20],d2amw)\n",
    "acc3aw=r2_score(train_df.y.iloc[0:20],d3amw)\n",
    "acc4aw=r2_score(train_df.y.iloc[0:20],d4amw)\n",
    "acc5aw=r2_score(train_df.y.iloc[0:20],d5amw)\n",
    "\n",
    "accsaw=[acc0aw,acc1aw,acc2aw,acc3aw,acc4aw,acc5aw]\n",
    "erraws=[err0aw,err1aw,err2aw,acc3aw,err4aw,err5aw]\n",
    "\n",
    "print(err0aw,sep='\\n\\n')\n",
    "print(\"\\n\")\n",
    "\n",
    "print(f\"{acc0aw*100}%\",sep='\\n\\n')\n",
    "Data.append({\"mse\":erraws[0],\"r2_score\":accsaw[0]})\n",
    "models=[d0amw]\n",
    "fig,ax=plt.subplots(1,1,figsize=(12,8))\n",
    "axes=[ax]\n",
    "xsort=train_df.X.iloc[0:20].copy()\n",
    "xsort.sort_values(axis=0,inplace=True)\n",
    "for i,mod in enumerate(models):\n",
    "    axes[i].scatter(train_df.X,train_df.y)\n",
    "    axes[i].set_title(f\"Question 2b:Locally Weighted Linear Regression: first 20 elements(tau=0.1)\")\n",
    "    axes[i].plot(xsort,mod[train_df.X.iloc[0:20].argsort(0)],color='y')\n",
    "plt.savefig(\"2b.png\")"
   ]
  },
  {
   "cell_type": "code",
   "execution_count": 42,
   "id": "befe799c",
   "metadata": {},
   "outputs": [
    {
     "data": {
      "text/plain": [
       "[None, None]"
      ]
     },
     "execution_count": 42,
     "metadata": {},
     "output_type": "execute_result"
    },
    {
     "name": "stdout",
     "output_type": "stream",
     "text": [
      "[{'mse': 0.3566811437504075, 'r2_score': 0.990171722066146, 'name': 'part_0'}, {'mse': 0.09402456730116786, 'r2_score': 0.9976729318163619, 'name': 'part_1'}]\n"
     ]
    }
   ],
   "source": [
    "[Data[i].update({\"name\":f\"part_{i}\"}) for i in range(len(Data))]\n",
    "print(Data)\n",
    "\n",
    "import json\n",
    "with open(\"q2.json\",\"w\") as wf:\n",
    "    json.dump(Data,wf)"
   ]
  },
  {
   "cell_type": "code",
   "execution_count": 43,
   "id": "97eecc08",
   "metadata": {},
   "outputs": [
    {
     "name": "stdout",
     "output_type": "stream",
     "text": [
      "1a.png\t\t  gender_data.csv\t\t    q3.png\r\n",
      "1b.png\t\t  generate_data.pdf\t\t    report.docx\r\n",
      "1b_train_data.py  generate_data_proj1.pdf\t    report.pdf\r\n",
      "1comp.png\t  generate_data_proj1.php.html\t    test.csv\r\n",
      "2a.png\t\t  Notes.md\t\t\t    t.py\r\n",
      "2b.png\t\t  plot_classifier_comparison.ipynb  train.csv\r\n",
      "2comp.png\t  proj1.pdf\t\t\t    without_age_accuracy.png\r\n",
      "accuracy.png\t  q1.json\r\n",
      "Analysis.ipynb\t  q2.json\r\n"
     ]
    }
   ],
   "source": [
    "!ls"
   ]
  },
  {
   "cell_type": "code",
   "execution_count": 44,
   "id": "16d82303",
   "metadata": {},
   "outputs": [
    {
     "data": {
      "text/html": [
       "<div>\n",
       "<style scoped>\n",
       "    .dataframe tbody tr th:only-of-type {\n",
       "        vertical-align: middle;\n",
       "    }\n",
       "\n",
       "    .dataframe tbody tr th {\n",
       "        vertical-align: top;\n",
       "    }\n",
       "\n",
       "    .dataframe thead th {\n",
       "        text-align: right;\n",
       "    }\n",
       "</style>\n",
       "<table border=\"1\" class=\"dataframe\">\n",
       "  <thead>\n",
       "    <tr style=\"text-align: right;\">\n",
       "      <th></th>\n",
       "      <th>mse</th>\n",
       "      <th>r2_score</th>\n",
       "      <th>name</th>\n",
       "    </tr>\n",
       "  </thead>\n",
       "  <tbody>\n",
       "    <tr>\n",
       "      <th>0</th>\n",
       "      <td>0.356681</td>\n",
       "      <td>0.990172</td>\n",
       "      <td>part_0</td>\n",
       "    </tr>\n",
       "    <tr>\n",
       "      <th>1</th>\n",
       "      <td>0.094025</td>\n",
       "      <td>0.997673</td>\n",
       "      <td>part_1</td>\n",
       "    </tr>\n",
       "  </tbody>\n",
       "</table>\n",
       "</div>"
      ],
      "text/plain": [
       "        mse  r2_score    name\n",
       "0  0.356681  0.990172  part_0\n",
       "1  0.094025  0.997673  part_1"
      ]
     },
     "execution_count": 44,
     "metadata": {},
     "output_type": "execute_result"
    }
   ],
   "source": [
    "d2f=pd.DataFrame.from_dict(Data)\n",
    "d2f"
   ]
  },
  {
   "cell_type": "code",
   "execution_count": null,
   "id": "d80bcbc8",
   "metadata": {},
   "outputs": [],
   "source": []
  },
  {
   "cell_type": "code",
   "execution_count": null,
   "id": "a517c5e5",
   "metadata": {},
   "outputs": [],
   "source": []
  },
  {
   "cell_type": "code",
   "execution_count": null,
   "id": "fa7a3d46",
   "metadata": {},
   "outputs": [],
   "source": []
  },
  {
   "cell_type": "markdown",
   "id": "bd135e90",
   "metadata": {},
   "source": [
    "# Logistic Regression\n",
    "3. Consider again the problem from Questions 2 and 3 in the first assignment where we want to predict the gender of a person from a set of input parameters, namely height, weight, and age. Assume the same datasets you generated for the first assignment.\n",
    "\n",
    "a) Implement logistic regression to classify this data (use the individual data elements, i.e. height,\n",
    "weight, and age, as features). Your implementation should take different data sets as input for\n",
    "learning.\n",
    "\n",
    "\n",
    "b) Plot the resulting function together with the data points (using your favorite plotting program, e.g.\n",
    "Matlab, Octave, ...). To generate the function for locally weighted linear regression for this data you\n",
    "need to compute its value for finely spaced test data points, x, between −3 and 3.\n",
    "\n",
    "\n",
    "c) Evaluate the performance of your logistic regression classifier in the same way as for Homework\n",
    "1 using leve-one-out validation and compare the results with the ones for KNN and Naı̈ve Bayes\n",
    "(either from your first assignment or, if you did not implement these, using an existing implemen-\n",
    "tation). Discuss what differences exist and why one method might outperform the others for this\n",
    "problem.\n",
    "\n",
    "\n",
    "d) Repeat the evaluation and comparison from part c) with the age feature removed. Again, discuss\n",
    "what differences exist and why one method might outperform the others in this case.\n",
    "\n"
   ]
  },
  {
   "cell_type": "code",
   "execution_count": 18,
   "id": "687b0d33",
   "metadata": {},
   "outputs": [],
   "source": []
  },
  {
   "cell_type": "code",
   "execution_count": 77,
   "id": "0c84d580",
   "metadata": {},
   "outputs": [
    {
     "data": {
      "text/plain": [
       "(120, 4)"
      ]
     },
     "execution_count": 77,
     "metadata": {},
     "output_type": "execute_result"
    },
    {
     "data": {
      "text/html": [
       "<div>\n",
       "<style scoped>\n",
       "    .dataframe tbody tr th:only-of-type {\n",
       "        vertical-align: middle;\n",
       "    }\n",
       "\n",
       "    .dataframe tbody tr th {\n",
       "        vertical-align: top;\n",
       "    }\n",
       "\n",
       "    .dataframe thead th {\n",
       "        text-align: right;\n",
       "    }\n",
       "</style>\n",
       "<table border=\"1\" class=\"dataframe\">\n",
       "  <thead>\n",
       "    <tr style=\"text-align: right;\">\n",
       "      <th></th>\n",
       "      <th>height</th>\n",
       "      <th>weight</th>\n",
       "      <th>age</th>\n",
       "      <th>gender</th>\n",
       "    </tr>\n",
       "  </thead>\n",
       "  <tbody>\n",
       "    <tr>\n",
       "      <th>0</th>\n",
       "      <td>1.702639</td>\n",
       "      <td>76.802746</td>\n",
       "      <td>25</td>\n",
       "      <td>M</td>\n",
       "    </tr>\n",
       "    <tr>\n",
       "      <th>1</th>\n",
       "      <td>1.697199</td>\n",
       "      <td>77.269872</td>\n",
       "      <td>24</td>\n",
       "      <td>W</td>\n",
       "    </tr>\n",
       "    <tr>\n",
       "      <th>2</th>\n",
       "      <td>1.834627</td>\n",
       "      <td>83.110254</td>\n",
       "      <td>23</td>\n",
       "      <td>M</td>\n",
       "    </tr>\n",
       "    <tr>\n",
       "      <th>3</th>\n",
       "      <td>1.937070</td>\n",
       "      <td>81.158630</td>\n",
       "      <td>30</td>\n",
       "      <td>M</td>\n",
       "    </tr>\n",
       "    <tr>\n",
       "      <th>4</th>\n",
       "      <td>1.883345</td>\n",
       "      <td>79.561306</td>\n",
       "      <td>29</td>\n",
       "      <td>M</td>\n",
       "    </tr>\n",
       "  </tbody>\n",
       "</table>\n",
       "</div>"
      ],
      "text/plain": [
       "     height     weight  age gender\n",
       "0  1.702639  76.802746   25      M\n",
       "1  1.697199  77.269872   24      W\n",
       "2  1.834627  83.110254   23      M\n",
       "3  1.937070  81.158630   30      M\n",
       "4  1.883345  79.561306   29      M"
      ]
     },
     "execution_count": 77,
     "metadata": {},
     "output_type": "execute_result"
    }
   ],
   "source": [
    "df=pd.read_csv(\"gender_data.csv\")\n",
    "df.shape\n",
    "df.head()"
   ]
  },
  {
   "cell_type": "code",
   "execution_count": 53,
   "id": "945f353b",
   "metadata": {},
   "outputs": [],
   "source": [
    "class LogisticRegression:\n",
    "    def __init__(self, lr=0.01, num_iter=100000, fit_intercept=True, verbose=False):\n",
    "        self.lr = lr\n",
    "        self.num_iter = num_iter\n",
    "        self.verbose=verbose\n",
    "        self.fit_intercept = fit_intercept\n",
    "    \n",
    "    def __add_intercept(self, X):\n",
    "        intercept = np.ones((X.shape[0], 1))\n",
    "        return np.concatenate((intercept, X), axis=1)\n",
    "    \n",
    "    def __sigmoid(self, z):\n",
    "        return 1 / (1 + np.exp(-z))\n",
    "    def __loss(self, h, y):\n",
    "        return (-y * np.log(h) - (1 - y) * np.log(1 - h)).mean()\n",
    "    \n",
    "    def fit(self, X, y):\n",
    "        if self.fit_intercept:\n",
    "            X = self.__add_intercept(X)\n",
    "        \n",
    "        # weights initialization\n",
    "        self.theta = np.zeros(X.shape[1])\n",
    "        \n",
    "        for i in range(self.num_iter):\n",
    "            z = np.dot(X, self.theta)\n",
    "            h = self.__sigmoid(z)\n",
    "            gradient = np.dot(X.T, (h - y)) / y.size\n",
    "            self.theta -= self.lr * gradient\n",
    "            \n",
    "            if(self.verbose == True and i % 10000 == 0):\n",
    "                z = np.dot(X, self.theta)\n",
    "                h = self.__sigmoid(z)\n",
    "                print(f'loss: {self.__loss(h, y)} \\t')\n",
    "    \n",
    "    def predict_proba(self, X):\n",
    "        if self.fit_intercept:\n",
    "            X = self.__add_intercept(X)\n",
    "    \n",
    "        return self.__sigmoid(np.dot(X, self.theta))\n",
    "    \n",
    "    def predict(self, X, threshold=0.5):\n",
    "        return self.predict_proba(X) >= threshold"
   ]
  },
  {
   "cell_type": "code",
   "execution_count": 60,
   "id": "99ed1d85",
   "metadata": {},
   "outputs": [
    {
     "data": {
      "text/html": [
       "<div>\n",
       "<style scoped>\n",
       "    .dataframe tbody tr th:only-of-type {\n",
       "        vertical-align: middle;\n",
       "    }\n",
       "\n",
       "    .dataframe tbody tr th {\n",
       "        vertical-align: top;\n",
       "    }\n",
       "\n",
       "    .dataframe thead th {\n",
       "        text-align: right;\n",
       "    }\n",
       "</style>\n",
       "<table border=\"1\" class=\"dataframe\">\n",
       "  <thead>\n",
       "    <tr style=\"text-align: right;\">\n",
       "      <th></th>\n",
       "      <th>height</th>\n",
       "      <th>weight</th>\n",
       "      <th>age</th>\n",
       "      <th>gender</th>\n",
       "      <th>gender_code</th>\n",
       "    </tr>\n",
       "  </thead>\n",
       "  <tbody>\n",
       "    <tr>\n",
       "      <th>0</th>\n",
       "      <td>1.702639</td>\n",
       "      <td>76.802746</td>\n",
       "      <td>25</td>\n",
       "      <td>M</td>\n",
       "      <td>1</td>\n",
       "    </tr>\n",
       "    <tr>\n",
       "      <th>1</th>\n",
       "      <td>1.697199</td>\n",
       "      <td>77.269872</td>\n",
       "      <td>24</td>\n",
       "      <td>W</td>\n",
       "      <td>2</td>\n",
       "    </tr>\n",
       "    <tr>\n",
       "      <th>2</th>\n",
       "      <td>1.834627</td>\n",
       "      <td>83.110254</td>\n",
       "      <td>23</td>\n",
       "      <td>M</td>\n",
       "      <td>1</td>\n",
       "    </tr>\n",
       "    <tr>\n",
       "      <th>3</th>\n",
       "      <td>1.937070</td>\n",
       "      <td>81.158630</td>\n",
       "      <td>30</td>\n",
       "      <td>M</td>\n",
       "      <td>1</td>\n",
       "    </tr>\n",
       "    <tr>\n",
       "      <th>4</th>\n",
       "      <td>1.883345</td>\n",
       "      <td>79.561306</td>\n",
       "      <td>29</td>\n",
       "      <td>M</td>\n",
       "      <td>1</td>\n",
       "    </tr>\n",
       "  </tbody>\n",
       "</table>\n",
       "</div>"
      ],
      "text/plain": [
       "     height     weight  age gender  gender_code\n",
       "0  1.702639  76.802746   25      M            1\n",
       "1  1.697199  77.269872   24      W            2\n",
       "2  1.834627  83.110254   23      M            1\n",
       "3  1.937070  81.158630   30      M            1\n",
       "4  1.883345  79.561306   29      M            1"
      ]
     },
     "execution_count": 60,
     "metadata": {},
     "output_type": "execute_result"
    },
    {
     "data": {
      "text/plain": [
       "(120, 5)"
      ]
     },
     "execution_count": 60,
     "metadata": {},
     "output_type": "execute_result"
    }
   ],
   "source": [
    "#define cross-validation method to use\n",
    "\n",
    "lr=LogisticRegression(lr=0.1, num_iter=300000)\n",
    "\n",
    "def lencode(x):\n",
    "    if x==\"M\":\n",
    "        return 1\n",
    "    else:\n",
    "        return 2\n",
    "\n",
    "X=df[[\"height\",\"weight\"]]\n",
    "df[\"gender_code\"]=df[\"gender\"].apply(lencode)\n",
    "y=df[\"gender_code\"]\n",
    "#df.info()\n",
    "df.head()\n",
    "df.shape"
   ]
  },
  {
   "cell_type": "code",
   "execution_count": 61,
   "id": "fbf2e647",
   "metadata": {},
   "outputs": [],
   "source": [
    "X_train, X_test, y_train, y_test = X.iloc[0:80],X.iloc[80:],y.iloc[0:80],y.iloc[80:]\n",
    "warnings.filterwarnings(action=\"ignore\",category=UserWarning)\n",
    "warnings.filterwarnings(action=\"ignore\",category=Warning)\n",
    "lr.fit(X_train,y_train);\n"
   ]
  },
  {
   "cell_type": "code",
   "execution_count": 51,
   "id": "22cb4f19",
   "metadata": {},
   "outputs": [
    {
     "name": "stdout",
     "output_type": "stream",
     "text": [
      "For samples :[1.8184923035897, 66.646602087329, 29] - the predictions are \n",
      "\tFor k:1 number of neighbors prediction is W \n",
      "\n",
      "\tFor k:3 number of neighbors prediction is W \n",
      "\n",
      "\tFor k:5 number of neighbors prediction is W \n",
      "\n",
      "For samples :[1.648406974399, 73.059070491065, 34] - the predictions are \n",
      "\tFor k:1 number of neighbors prediction is M \n",
      "\n",
      "\tFor k:3 number of neighbors prediction is W \n",
      "\n",
      "\tFor k:5 number of neighbors prediction is W \n",
      "\n",
      "For samples :[1.6474627731456, 70.909032272466, 29] - the predictions are \n",
      "\tFor k:1 number of neighbors prediction is M \n",
      "\n",
      "\tFor k:3 number of neighbors prediction is W \n",
      "\n",
      "\tFor k:5 number of neighbors prediction is W \n",
      "\n",
      "For samples :[1.7661393134637, 79.730137027542, 20] - the predictions are \n",
      "\tFor k:1 number of neighbors prediction is M \n",
      "\n",
      "\tFor k:3 number of neighbors prediction is W \n",
      "\n",
      "\tFor k:5 number of neighbors prediction is M \n",
      "\n",
      "\n",
      "KNN Performance using k:1\n",
      "82/120 correct predictions using all features\n",
      "78/120 correct predictions excluding age\n",
      "\n",
      "KNN Performance using k:3\n",
      "80/120 correct predictions using all features\n",
      "81/120 correct predictions excluding age\n",
      "\n",
      "KNN Performance using k:5\n",
      "78/120 correct predictions using all features\n",
      "70/120 correct predictions excluding age\n",
      "\n"
     ]
    }
   ],
   "source": [
    "\n",
    "from data import heights, weights, age, gender, samples, k_values,program_height,program_age,program_gender,program_weight\n",
    "\n",
    "def calculate_cartesian_distance_withOutage(sample, df_dataset):\n",
    "    inputs = df_dataset.drop(['age', 'gender'], axis=1).values\n",
    "    diffs = sample - inputs\n",
    "    sum_pow = np.sum(np.power(diffs, 2), axis=1)\n",
    "\n",
    "    return np.power(sum_pow, 0.5)\n",
    "\n",
    "\n",
    "def calculate_cartesian_distance_withage(sample, df_dataset):\n",
    "    inputs = df_dataset.drop(['gender'], axis=1).values\n",
    "    diffs = sample - inputs\n",
    "    sum_pow = np.sum(np.power(diffs, 2), axis=1)\n",
    "\n",
    "    return np.power(sum_pow, 0.5)\n",
    "\n",
    "\n",
    "def gender_prediction(k, sorted_labels):\n",
    "    # the method predicts the gender with the help of k-nearest nighbour and sorted_labels\n",
    "    k_nearest_neighbors = sorted_labels[:k]\n",
    "    men_occurencies = np.count_nonzero(k_nearest_neighbors == 'M')\n",
    "    women_occurencies = np.count_nonzero(k_nearest_neighbors == 'W')\n",
    "\n",
    "    return 'M' if men_occurencies > women_occurencies else 'W'\n",
    "\n",
    "\n",
    "def kNN_classifier(sample, k, df_dataset, drop_age):\n",
    "    if drop_age:\n",
    "        cart_distance = calculate_cartesian_distance_withOutage(\n",
    "            sample, df_dataset)\n",
    "    else:\n",
    "        cart_distance = calculate_cartesian_distance_withage(\n",
    "            sample, df_dataset)\n",
    "\n",
    "    labels = df_dataset[\"gender\"].values\n",
    "\n",
    "    # get the cartesian distance from each data point\n",
    "    # cart_distance = cartesian_distance(sample, inputs)\n",
    "\n",
    "    # create a 2D array with the 1st column being the above distances and the second corresponding label\n",
    "    labeled_cart = np.vstack((cart_distance, labels))\n",
    "\n",
    "    # sort in an ascending manner the above 2D array based on the distances\n",
    "    sorted_cart = labeled_cart.T[labeled_cart.T[:, 0].argsort()]\n",
    "    sorted_labels = sorted_cart.T[1]\n",
    "\n",
    "    return gender_prediction(k, sorted_labels)\n",
    "\n",
    "def samplesClassification(samples,training_dataset):\n",
    "    for sample in samples:\n",
    "        print(\"For samples :{} - the predictions are \".format(sample) )\n",
    "        # selecting the neiighbors for each classification for each samples.\n",
    "        for k in k_values:\n",
    "            # print(\"\\tK:{}\".format(k))\n",
    "            prediction_1 = kNN_classifier(\n",
    "                sample, k, training_dataset, drop_age=False)\n",
    "            print(\"\\tFor k:{} number of neighbors prediction is {} \".format(\n",
    "                k,prediction_1))\n",
    "            # prediction_2 = kNN_classifier(sample[:2], k, df_dataset,\n",
    "            #                                   drop_age=True)  # assumption: gender is is the 3rd element of the sample\n",
    "            # print(\"\\tPrediction is {} for k:{} number of neighbors without using age feature\".format(prediction_2, k))\n",
    "            print()\n",
    "    print()\n",
    "\n",
    "df_dataset = pd.DataFrame({'heights': heights, 'weights': weights, 'age': age, 'gender': gender})\n",
    "\n",
    "program_dataset = pd.DataFrame({'heights': program_height, 'weights': program_weight, 'age': program_age, 'gender': program_gender})\n",
    "\n",
    "samplesClassification(samples,df_dataset)\n",
    "\n",
    "for k in k_values:\n",
    "        valid_predictions_all_features, valid_predictions_exclude_age = 0, 0\n",
    "\n",
    "        # test with leave-1-out training method\n",
    "        for index, test_sample in program_dataset.iterrows():\n",
    "            sample = test_sample.values[:3]  # leave the target out\n",
    "            target = test_sample.values[3]\n",
    "            prediction = kNN_classifier(\n",
    "                sample, k, program_dataset.drop(index), drop_age=False)\n",
    "            valid_predictions_all_features += 1 if target == prediction else 0\n",
    "\n",
    "            prediction = kNN_classifier(\n",
    "                sample[:2], k, program_dataset.drop(index), drop_age=True)\n",
    "            valid_predictions_exclude_age += 1 if target == prediction else 0\n",
    "        print(\"KNN Performance using k:{}\".format(k))\n",
    "        print(\"{}/{} correct predictions using all features\".format(\n",
    "            valid_predictions_all_features, program_dataset.shape[0]))\n",
    "        print(\"{}/{} correct predictions excluding age\".format(\n",
    "            valid_predictions_exclude_age, program_dataset.shape[0]))\n",
    "        print()"
   ]
  },
  {
   "cell_type": "code",
   "execution_count": 62,
   "id": "f579c00e",
   "metadata": {},
   "outputs": [
    {
     "name": "stdout",
     "output_type": "stream",
     "text": [
      "Without age feature: 29 out of 40\n"
     ]
    }
   ],
   "source": [
    "l=np.linspace(-3,3,300)\n",
    "#l\n",
    "correct=0\n",
    "hy=lr.predict(X_test)\n",
    "for v1,v2 in zip(hy,y_test):\n",
    "    if v1==v2:\n",
    "        correct+=1\n",
    "print(f\"Without age feature: {correct} out of {len(y_test)}\")"
   ]
  },
  {
   "cell_type": "code",
   "execution_count": 64,
   "id": "d728eb11",
   "metadata": {},
   "outputs": [],
   "source": [
    "# With Age\n",
    "X=df[[\"height\",\"weight\",\"age\"]]\n",
    "X_train, X_test, y_train, y_test = X.iloc[0:80],X.iloc[80:],y.iloc[0:80],y.iloc[80:]\n",
    "lr1=LogisticRegression(lr=0.1, num_iter=300000)\n",
    "lr1.fit(X_train,y_train);"
   ]
  },
  {
   "cell_type": "code",
   "execution_count": 65,
   "id": "a5c94e1e",
   "metadata": {},
   "outputs": [
    {
     "name": "stdout",
     "output_type": "stream",
     "text": [
      "Using all features: 29 out of 40\n"
     ]
    }
   ],
   "source": [
    "correct=0\n",
    "hy=lr1.predict(X_test)\n",
    "for v1,v2 in zip(hy,y_test):\n",
    "    if v1==v2:\n",
    "        correct+=1\n",
    "print(f\"Using all features: {correct} out of {len(y_test)}\")"
   ]
  },
  {
   "cell_type": "code",
   "execution_count": 70,
   "id": "7c1e4ee8",
   "metadata": {},
   "outputs": [],
   "source": [
    "def accuracy_score(y,y_pred):\n",
    "    c=0\n",
    "    for v1,v2 in zip(y, y_pred):\n",
    "        if v1==v2:\n",
    "            c+=1\n",
    "    return c/len(y)"
   ]
  },
  {
   "cell_type": "code",
   "execution_count": null,
   "id": "53a50239",
   "metadata": {},
   "outputs": [],
   "source": []
  },
  {
   "cell_type": "code",
   "execution_count": 67,
   "id": "8b2eb8e8",
   "metadata": {},
   "outputs": [
    {
     "name": "stdout",
     "output_type": "stream",
     "text": [
      "sample:[1.8184923035897, 66.646602087329, 29]\n",
      "\tPrediction is W\n",
      "\n",
      "sample:[1.648406974399, 73.059070491065, 34]\n",
      "\tPrediction is W\n",
      "\n",
      "sample:[1.6474627731456, 70.909032272466, 29]\n",
      "\tPrediction is W\n",
      "\n",
      "sample:[1.7661393134637, 79.730137027542, 20]\n",
      "\tPrediction is M\n",
      "\n",
      "Gaussian Naive Performance\n",
      "11/14 correct predictions using all features\n",
      "11/14 correct predictions excluding age\n",
      "\n"
     ]
    }
   ],
   "source": [
    "import math\n",
    "\n",
    "import numpy as np\n",
    "import pandas as pd\n",
    "\n",
    "from data import heights, weights, age, gender, samples\n",
    "\n",
    "\n",
    "def calculate_gaussian_probability(sample, mu, sigma):\n",
    "    return 1 / (math.sqrt(sigma ** math.pi)) * np.exp(-sigma * np.power((sample - mu), 2))\n",
    "\n",
    "\n",
    "def pdf_calculate(sample, feature, df_dataset):\n",
    "    \"\"\"\n",
    "    Calculates the Probability Density Function (PDF) of 2 classes; 'M' and 'W' here.\n",
    "    :param feature: feature to calulate PDF for\n",
    "    :return: probability for each class\n",
    "    \"\"\"\n",
    "    p_feature_men_mean = np.mean(df_dataset.loc[df_dataset['gender'] == 'M'][feature].values)\n",
    "    p_feature_men_std = np.std(df_dataset.loc[df_dataset['gender'] == 'M'][feature].values)\n",
    "    pdf_feature_men = calculate_gaussian_probability(sample, p_feature_men_mean, p_feature_men_std)\n",
    "\n",
    "    p_feature_women_mean = np.mean(df_dataset.loc[df_dataset['gender'] == 'W'][feature].values)\n",
    "    p_feature_women_std = np.std(df_dataset.loc[df_dataset['gender'] == 'W'][feature].values)\n",
    "    pdf_feature_women = calculate_gaussian_probability(sample, p_feature_women_mean, p_feature_women_std)\n",
    "\n",
    "    return pdf_feature_men, pdf_feature_women\n",
    "\n",
    "\n",
    "def gaussian_naive_bayes_classification(sample, df_dataset, drop_age):\n",
    "    \"\"\"\n",
    "    Naive Assumption -> every feature is independent from each other\n",
    "    Thus, P(height, weight, age | class_i) = P(height| class_i)*P(weight| class_i)*P(age| class_i)\n",
    "    Two classes: \"M\" & \"W\"\n",
    "    :param sample:\n",
    "    :param df_dataset:\n",
    "    :return: predicted class\n",
    "    \"\"\"\n",
    "    # Calculate PDFs for each feature\n",
    "    pdf_height_men, pdf_height_women = pdf_calculate(sample[0], 'heights', df_dataset)\n",
    "    pdf_weight_men, pdf_weight_women = pdf_calculate(sample[1], 'weights', df_dataset)\n",
    "\n",
    "    # calculate prior probabilities of the classes\n",
    "    num_of_men, num_of_women = np.count_nonzero(np.asarray(gender) == 'M'), np.count_nonzero(np.asarray(gender) == 'W')\n",
    "    total_num_of_classes = num_of_women + num_of_men\n",
    "    prior_men, prior_women = num_of_men / total_num_of_classes, num_of_women / total_num_of_classes\n",
    "\n",
    "    if drop_age:\n",
    "        # P(Class|Data) = P(Data|Class) * P(Class)\n",
    "        # \"Naive\" -> P(feature_1, feature_2| class) = P(feature_1|Class)*P(feature_2|Class)\n",
    "        p_man = pdf_height_men * pdf_weight_men * prior_men\n",
    "        p_woman = pdf_height_women * pdf_weight_women * prior_women\n",
    "    else:\n",
    "        pdf_age_men, pdf_age_women = pdf_calculate(sample[2], 'age', df_dataset)\n",
    "\n",
    "        # P(Class|Data) = P(Data|Class) * P(Class)\n",
    "        # \"Naive\" -> P(feature_1, feature_2, feature_3| class) = P(feature_1|Class)*P(feature_2|Class)*P(feature_3|Class)\n",
    "        p_man = pdf_height_men * pdf_weight_men * pdf_age_men * prior_men\n",
    "        p_woman = pdf_height_women * pdf_weight_women * pdf_age_women * prior_women\n",
    "\n",
    "    return 'M' if p_man > p_woman else 'W'\n",
    "\n",
    "\n",
    "if __name__ == '__main__':\n",
    "\n",
    "    df_dataset = pd.DataFrame({'heights': heights, 'weights': weights, 'age': age, 'gender': gender})\n",
    "\n",
    "    for sample in samples:\n",
    "        print(\"sample:{}\".format(sample))\n",
    "        prediction_1 = gaussian_naive_bayes_classification(sample, df_dataset, drop_age=False)\n",
    "        print(\"\\tPrediction is {}\".format(prediction_1))\n",
    "        # prediction_2 = KNN_classification(sample[:2], k, df_dataset,\n",
    "        #                                   drop_age=True)  # assumption: gender is is the 3rd element of the sample\n",
    "        # print(\"\\tPrediction is {} for k:{} number of neighbors without using age feature\".format(prediction_2, k))\n",
    "        print()\n",
    "\n",
    "\n",
    "    valid_predictions_all_features, valid_predictions_exclude_age = 0, 0\n",
    "\n",
    "    # test with leave-1-out training method\n",
    "    for index, test_sample in df_dataset.iterrows():\n",
    "        sample = test_sample.values[:3]  # leave the target out\n",
    "        target = test_sample.values[3]\n",
    "        prediction = gaussian_naive_bayes_classification(sample, df_dataset.drop(index), drop_age=False)\n",
    "        valid_predictions_all_features += 1 if target == prediction else 0\n",
    "        # print(\"Prediction:{} - Target: {} for k: {} number of neighbors\".format(prediction_1, target, k))\n",
    "\n",
    "        prediction = gaussian_naive_bayes_classification(sample[:2], df_dataset.drop(index),\n",
    "                                                         drop_age=True)  # assumption: gender is is the 3rd element of the sample\n",
    "        valid_predictions_exclude_age += 1 if target == prediction else 0\n",
    "        # print(\"Prediction: {} - Target: {} for k:{} number of neighbors without using age feature\".format(prediction_2, target, k))\n",
    "\n",
    "        # prediction = KNN_classification(sample[:2], k, df_dataset.drop(index),\n",
    "        #                                   drop_age=True)  # assumption: gender is is the 3rd element of the sample\n",
    "        # valid_predictions_all_features += 1 if target == prediction else 0\n",
    "    print(\"Gaussian Naive Performance\")\n",
    "    print(\"{}/{} correct predictions using all features\".format(valid_predictions_all_features, df_dataset.shape[0]))\n",
    "    print(\"{}/{} correct predictions excluding age\".format(valid_predictions_exclude_age, df_dataset.shape[0]))\n",
    "    print()"
   ]
  },
  {
   "cell_type": "code",
   "execution_count": null,
   "id": "27882c43",
   "metadata": {},
   "outputs": [],
   "source": []
  },
  {
   "cell_type": "code",
   "execution_count": null,
   "id": "496c6e46",
   "metadata": {},
   "outputs": [],
   "source": []
  },
  {
   "cell_type": "code",
   "execution_count": null,
   "id": "161e2b02",
   "metadata": {},
   "outputs": [],
   "source": []
  },
  {
   "cell_type": "code",
   "execution_count": null,
   "id": "4a729c0c",
   "metadata": {},
   "outputs": [],
   "source": []
  },
  {
   "cell_type": "code",
   "execution_count": null,
   "id": "5fea448a",
   "metadata": {},
   "outputs": [],
   "source": []
  },
  {
   "cell_type": "code",
   "execution_count": null,
   "id": "a23ded3d",
   "metadata": {},
   "outputs": [],
   "source": []
  },
  {
   "cell_type": "code",
   "execution_count": 73,
   "id": "dcca12f0",
   "metadata": {},
   "outputs": [
    {
     "name": "stdout",
     "output_type": "stream",
     "text": [
      "Accuracy for LogisticRegression All features: 54.2% \n"
     ]
    },
    {
     "data": {
      "text/plain": [
       "Text(0.5, 1.0, 'Gender against height 1=M, 2=W')"
      ]
     },
     "execution_count": 73,
     "metadata": {},
     "output_type": "execute_result"
    },
    {
     "data": {
      "text/plain": [
       "<matplotlib.collections.PathCollection at 0x7fed5c2344c0>"
      ]
     },
     "execution_count": 73,
     "metadata": {},
     "output_type": "execute_result"
    },
    {
     "data": {
      "text/plain": [
       "Text(0.5, 0, 'height')"
      ]
     },
     "execution_count": 73,
     "metadata": {},
     "output_type": "execute_result"
    },
    {
     "data": {
      "text/plain": [
       "Text(0, 0.5, 'Gender')"
      ]
     },
     "execution_count": 73,
     "metadata": {},
     "output_type": "execute_result"
    },
    {
     "data": {
      "text/plain": [
       "Text(0.5, 1.0, 'Gender against weight 1=M, 2=W')"
      ]
     },
     "execution_count": 73,
     "metadata": {},
     "output_type": "execute_result"
    },
    {
     "data": {
      "text/plain": [
       "<matplotlib.collections.PathCollection at 0x7fed447d3a60>"
      ]
     },
     "execution_count": 73,
     "metadata": {},
     "output_type": "execute_result"
    },
    {
     "data": {
      "text/plain": [
       "Text(0.5, 0, 'weight')"
      ]
     },
     "execution_count": 73,
     "metadata": {},
     "output_type": "execute_result"
    },
    {
     "data": {
      "text/plain": [
       "Text(0, 0.5, 'Gender')"
      ]
     },
     "execution_count": 73,
     "metadata": {},
     "output_type": "execute_result"
    },
    {
     "data": {
      "image/png": "[encoded data removed]",
      "text/plain": [
       "<Figure size 864x576 with 3 Axes>"
      ]
     },
     "metadata": {
      "needs_background": "light"
     },
     "output_type": "display_data"
    }
   ],
   "source": [
    "#plt.scatter(X['height'],y)\n",
    "fig,(ax1,ax2,ax3)=plt.subplots(1,3,figsize=(12,8))\n",
    "cols=[\"height\",\"weight\"]#,\"age\"]\n",
    "axs=[ax1,ax2]#,ax3]\n",
    "xx = np.linspace(3, 9, 100)\n",
    "yy = np.linspace(1, 5, 100).T\n",
    "zz = np.linspace(1, 5, 100).T\n",
    "xx, yy = np.meshgrid(xx, yy)\n",
    "Xfull = np.c_[xx.ravel(), yy.ravel()]\n",
    "\n",
    "\n",
    "classifiers={\"LogisticRegression All features\":lr1}\n",
    "n_classifiers=3\n",
    "for index, (name, classifier) in enumerate(classifiers.items()):\n",
    "    y_pred = classifier.predict(X)\n",
    "    accuracy = accuracy_score(y, y_pred)\n",
    "    print(\"Accuracy for %s: %0.1f%% \" % (name, accuracy * 100))\n",
    "    \n",
    "\n",
    "#ax = plt.axes([0.15, 0.04, 0.7, 0.05])\n",
    "#plt.title(\"Probability\")\n",
    "#plt.colorbar(imshow_handle, cax=ax, orientation=\"horizontal\")\n",
    "\n",
    "#plt.show()\n",
    "for i in range(2):\n",
    "    axs[i].set_title(f\"Gender against {cols[i]} 1=M, 2=W\")\n",
    "    axs[i].scatter(X[cols[i]],y)\n",
    "    axs[i].set_xlabel(f\"{cols[i]}\")\n",
    "    axs[i].set_ylabel(f\"Gender\")\n",
    "    \n",
    "#plt.savefig(\".png\")"
   ]
  },
  {
   "cell_type": "code",
   "execution_count": 74,
   "id": "7d9ad85e",
   "metadata": {},
   "outputs": [
    {
     "data": {
      "text/plain": [
       "0.6833333333333333"
      ]
     },
     "execution_count": 74,
     "metadata": {},
     "output_type": "execute_result"
    }
   ],
   "source": [
    "82/120"
   ]
  },
  {
   "cell_type": "code",
   "execution_count": 75,
   "id": "98516b66",
   "metadata": {},
   "outputs": [
    {
     "data": {
      "text/plain": [
       "0.725"
      ]
     },
     "execution_count": 75,
     "metadata": {},
     "output_type": "execute_result"
    }
   ],
   "source": [
    "29/40"
   ]
  },
  {
   "cell_type": "code",
   "execution_count": 76,
   "id": "82ea5d4b",
   "metadata": {},
   "outputs": [
    {
     "data": {
      "text/plain": [
       "0.7857142857142857"
      ]
     },
     "execution_count": 76,
     "metadata": {},
     "output_type": "execute_result"
    }
   ],
   "source": [
    "11/14"
   ]
  },
  {
   "cell_type": "code",
   "execution_count": 78,
   "id": "2fc53246",
   "metadata": {},
   "outputs": [
    {
     "data": {
      "text/plain": [
       "{'height': {0: 1.702638845375,\n",
       "  1: 1.6971990153961,\n",
       "  2: 1.8346274304775,\n",
       "  3: 1.9370703002624,\n",
       "  4: 1.8833449771323,\n",
       "  5: 1.7708625844432,\n",
       "  6: 1.7663028282995,\n",
       "  7: 1.8589201835232,\n",
       "  8: 1.6885861305035,\n",
       "  9: 1.8535584641831,\n",
       "  10: 1.9796834737297,\n",
       "  11: 1.8298612400188,\n",
       "  12: 1.8624273996642,\n",
       "  13: 1.7827230671223,\n",
       "  14: 1.7097182035075,\n",
       "  15: 1.8033598936309,\n",
       "  16: 1.6685071195502,\n",
       "  17: 1.7883749923733,\n",
       "  18: 1.5774249383703,\n",
       "  19: 1.6715541277347,\n",
       "  20: 1.7061901404023,\n",
       "  21: 1.6982617822049,\n",
       "  22: 1.7699522417883,\n",
       "  23: 1.8074555498345,\n",
       "  24: 1.7336344130993,\n",
       "  25: 1.7637559408923,\n",
       "  26: 1.9612373318942,\n",
       "  27: 1.7006740147337,\n",
       "  28: 1.8741476211353,\n",
       "  29: 1.6668225595969,\n",
       "  30: 1.6674410419192,\n",
       "  31: 1.8192517926059,\n",
       "  32: 1.803888487877,\n",
       "  33: 1.7989567016259,\n",
       "  34: 1.6674184320267,\n",
       "  35: 1.9440262777634,\n",
       "  36: 1.792299479301,\n",
       "  37: 1.8491896144086,\n",
       "  38: 1.6790980651054,\n",
       "  39: 1.8108311807972,\n",
       "  40: 1.6851539781568,\n",
       "  41: 1.7491952654594,\n",
       "  42: 1.8065734415125,\n",
       "  43: 1.8770874605189,\n",
       "  44: 1.9425917648313,\n",
       "  45: 1.6772375272977,\n",
       "  46: 1.8133787305005,\n",
       "  47: 1.9520946131297,\n",
       "  48: 1.7105124996836,\n",
       "  49: 1.8747129772801,\n",
       "  50: 1.8270655024764,\n",
       "  51: 1.7408230611569,\n",
       "  52: 2.0197945491603,\n",
       "  53: 1.7969513517324,\n",
       "  54: 1.7592161138534,\n",
       "  55: 1.8590039822747,\n",
       "  56: 1.8266498611481,\n",
       "  57: 1.5529634283349,\n",
       "  58: 1.7814021683245,\n",
       "  59: 1.9099255188094,\n",
       "  60: 1.633935991765,\n",
       "  61: 1.7273073187477,\n",
       "  62: 1.7964236924664,\n",
       "  63: 1.833390618975,\n",
       "  64: 1.7770839758536,\n",
       "  65: 1.8102584952947,\n",
       "  66: 1.8918439935374,\n",
       "  67: 1.7356653962159,\n",
       "  68: 1.8421586081466,\n",
       "  69: 1.6999928662615,\n",
       "  70: 1.8053947620229,\n",
       "  71: 1.7992623664176,\n",
       "  72: 1.8429583992571,\n",
       "  73: 1.6760767539001,\n",
       "  74: 1.7062600310352,\n",
       "  75: 1.8246212380646,\n",
       "  76: 1.8614239202489,\n",
       "  77: 1.8793995820646,\n",
       "  78: 1.8713262435137,\n",
       "  79: 1.8205271368966,\n",
       "  80: 1.7717280224846,\n",
       "  81: 1.8951950464043,\n",
       "  82: 1.9375787936641,\n",
       "  83: 1.7595879962211,\n",
       "  84: 1.8119168196927,\n",
       "  85: 1.9653640113283,\n",
       "  86: 1.8506759438855,\n",
       "  87: 1.9662825741207,\n",
       "  88: 1.7739827741358,\n",
       "  89: 1.9000620015957,\n",
       "  90: 1.8083321491638,\n",
       "  91: 1.8926255422199,\n",
       "  92: 1.9423909283884,\n",
       "  93: 1.6820354972643,\n",
       "  94: 1.8810428176045,\n",
       "  95: 1.7925050685942,\n",
       "  96: 1.7135333161607,\n",
       "  97: 1.6929981504899,\n",
       "  98: 1.8385070463272,\n",
       "  99: 1.9548383697676,\n",
       "  100: 1.8003075637533,\n",
       "  101: 1.9063189434246,\n",
       "  102: 1.8919255011921,\n",
       "  103: 1.6970865397842,\n",
       "  104: 1.7989209291624,\n",
       "  105: 1.749636086247,\n",
       "  106: 2.0114844828231,\n",
       "  107: 1.9032833564153,\n",
       "  108: 1.8756711011311,\n",
       "  109: 1.6834673751784,\n",
       "  110: 1.7893653152244,\n",
       "  111: 1.7606970701332,\n",
       "  112: 1.7277743527983,\n",
       "  113: 1.7965856976536,\n",
       "  114: 1.9335351186162,\n",
       "  115: 1.707365374395,\n",
       "  116: 1.7709728071584,\n",
       "  117: 1.889258520252,\n",
       "  118: 1.9805761312032,\n",
       "  119: 1.867820220692},\n",
       " 'weight': {0: 76.8027458069,\n",
       "  1: 77.269871641804,\n",
       "  2: 83.11025421252,\n",
       "  3: 81.158629828346,\n",
       "  4: 79.56130579047,\n",
       "  5: 79.874386018085,\n",
       "  6: 84.502366446944,\n",
       "  7: 74.222687220586,\n",
       "  8: 85.162952063685,\n",
       "  9: 83.137510438721,\n",
       "  10: 89.959254130863,\n",
       "  11: 82.203525511581,\n",
       "  12: 86.337327617365,\n",
       "  13: 78.196155271048,\n",
       "  14: 81.856716442489,\n",
       "  15: 88.528072627768,\n",
       "  16: 77.666072395403,\n",
       "  17: 78.061393206212,\n",
       "  18: 74.280573621626,\n",
       "  19: 84.663993334148,\n",
       "  20: 75.046986361069,\n",
       "  21: 86.34910798392,\n",
       "  22: 72.378754618233,\n",
       "  23: 81.563385035104,\n",
       "  24: 84.789650310141,\n",
       "  25: 82.519046384647,\n",
       "  26: 79.264595196285,\n",
       "  27: 75.044274701568,\n",
       "  28: 85.25212528088,\n",
       "  29: 77.220144882458,\n",
       "  30: 82.189644469724,\n",
       "  31: 84.55450892662,\n",
       "  32: 81.623692145317,\n",
       "  33: 83.40314694162,\n",
       "  34: 74.992833970321,\n",
       "  35: 93.580098836386,\n",
       "  36: 78.655236623035,\n",
       "  37: 82.364749117518,\n",
       "  38: 82.020501853106,\n",
       "  39: 80.353545859227,\n",
       "  40: 75.471531790552,\n",
       "  41: 88.437615156479,\n",
       "  42: 82.362829683126,\n",
       "  43: 84.093265377515,\n",
       "  44: 89.583619267718,\n",
       "  45: 76.196383299684,\n",
       "  46: 88.534411367357,\n",
       "  47: 90.60816451055,\n",
       "  48: 74.244259515333,\n",
       "  49: 81.501337268202,\n",
       "  50: 76.324793547757,\n",
       "  51: 87.986280696261,\n",
       "  52: 90.244963830258,\n",
       "  53: 83.750706953145,\n",
       "  54: 92.175911112026,\n",
       "  55: 87.996673936472,\n",
       "  56: 72.953276755922,\n",
       "  57: 80.245162164437,\n",
       "  58: 75.713602798286,\n",
       "  59: 86.266289434563,\n",
       "  60: 75.404183385482,\n",
       "  61: 82.988647109791,\n",
       "  62: 82.11017678285,\n",
       "  63: 89.344442788666,\n",
       "  64: 80.25659042222,\n",
       "  65: 83.596052995276,\n",
       "  66: 79.767829367771,\n",
       "  67: 76.973268737453,\n",
       "  68: 83.645790877883,\n",
       "  69: 79.345943760159,\n",
       "  70: 75.671819957746,\n",
       "  71: 85.555169387001,\n",
       "  72: 88.801240622086,\n",
       "  73: 80.070362562453,\n",
       "  74: 74.122181260759,\n",
       "  75: 83.905608629244,\n",
       "  76: 82.627539969869,\n",
       "  77: 83.226992105366,\n",
       "  78: 79.413841051907,\n",
       "  79: 81.512066427738,\n",
       "  80: 84.736232373479,\n",
       "  81: 86.300296360543,\n",
       "  82: 77.167149804093,\n",
       "  83: 82.686218847023,\n",
       "  84: 83.652787701886,\n",
       "  85: 86.262710292413,\n",
       "  86: 86.960833962812,\n",
       "  87: 85.552578692745,\n",
       "  88: 79.642015331219,\n",
       "  89: 91.090231366632,\n",
       "  90: 90.577992691668,\n",
       "  91: 76.458690236945,\n",
       "  92: 94.784788042942,\n",
       "  93: 72.618517979774,\n",
       "  94: 87.473840166996,\n",
       "  95: 75.305458771862,\n",
       "  96: 73.429952021307,\n",
       "  97: 78.575801121145,\n",
       "  98: 86.287090707398,\n",
       "  99: 85.839734215693,\n",
       "  100: 75.019501153414,\n",
       "  101: 79.934613436695,\n",
       "  102: 88.178802078187,\n",
       "  103: 77.453411495327,\n",
       "  104: 81.784528286328,\n",
       "  105: 81.512257371917,\n",
       "  106: 94.448590274185,\n",
       "  107: 90.140224495595,\n",
       "  108: 90.28107807806,\n",
       "  109: 76.949406295267,\n",
       "  110: 81.821186112406,\n",
       "  111: 87.774843787233,\n",
       "  112: 82.169604342142,\n",
       "  113: 90.562408702746,\n",
       "  114: 91.06932423826,\n",
       "  115: 80.02526283857,\n",
       "  116: 78.076259970215,\n",
       "  117: 84.519228760393,\n",
       "  118: 95.756977537605,\n",
       "  119: 91.046693385985},\n",
       " 'age': {0: 25,\n",
       "  1: 24,\n",
       "  2: 23,\n",
       "  3: 30,\n",
       "  4: 29,\n",
       "  5: 32,\n",
       "  6: 31,\n",
       "  7: 27,\n",
       "  8: 31,\n",
       "  9: 28,\n",
       "  10: 30,\n",
       "  11: 26,\n",
       "  12: 35,\n",
       "  13: 29,\n",
       "  14: 30,\n",
       "  15: 30,\n",
       "  16: 27,\n",
       "  17: 31,\n",
       "  18: 24,\n",
       "  19: 27,\n",
       "  20: 25,\n",
       "  21: 25,\n",
       "  22: 27,\n",
       "  23: 34,\n",
       "  24: 28,\n",
       "  25: 33,\n",
       "  26: 31,\n",
       "  27: 32,\n",
       "  28: 31,\n",
       "  29: 29,\n",
       "  30: 35,\n",
       "  31: 26,\n",
       "  32: 31,\n",
       "  33: 28,\n",
       "  34: 28,\n",
       "  35: 30,\n",
       "  36: 25,\n",
       "  37: 26,\n",
       "  38: 33,\n",
       "  39: 29,\n",
       "  40: 31,\n",
       "  41: 35,\n",
       "  42: 22,\n",
       "  43: 34,\n",
       "  44: 35,\n",
       "  45: 33,\n",
       "  46: 25,\n",
       "  47: 29,\n",
       "  48: 29,\n",
       "  49: 31,\n",
       "  50: 26,\n",
       "  51: 28,\n",
       "  52: 28,\n",
       "  53: 35,\n",
       "  54: 24,\n",
       "  55: 27,\n",
       "  56: 29,\n",
       "  57: 23,\n",
       "  58: 36,\n",
       "  59: 31,\n",
       "  60: 32,\n",
       "  61: 26,\n",
       "  62: 27,\n",
       "  63: 30,\n",
       "  64: 29,\n",
       "  65: 27,\n",
       "  66: 29,\n",
       "  67: 35,\n",
       "  68: 31,\n",
       "  69: 33,\n",
       "  70: 27,\n",
       "  71: 32,\n",
       "  72: 27,\n",
       "  73: 32,\n",
       "  74: 25,\n",
       "  75: 29,\n",
       "  76: 34,\n",
       "  77: 26,\n",
       "  78: 34,\n",
       "  79: 40,\n",
       "  80: 37,\n",
       "  81: 31,\n",
       "  82: 30,\n",
       "  83: 29,\n",
       "  84: 28,\n",
       "  85: 31,\n",
       "  86: 27,\n",
       "  87: 37,\n",
       "  88: 29,\n",
       "  89: 25,\n",
       "  90: 33,\n",
       "  91: 23,\n",
       "  92: 31,\n",
       "  93: 28,\n",
       "  94: 38,\n",
       "  95: 34,\n",
       "  96: 29,\n",
       "  97: 30,\n",
       "  98: 27,\n",
       "  99: 27,\n",
       "  100: 28,\n",
       "  101: 27,\n",
       "  102: 32,\n",
       "  103: 29,\n",
       "  104: 29,\n",
       "  105: 30,\n",
       "  106: 27,\n",
       "  107: 29,\n",
       "  108: 29,\n",
       "  109: 34,\n",
       "  110: 27,\n",
       "  111: 26,\n",
       "  112: 38,\n",
       "  113: 30,\n",
       "  114: 28,\n",
       "  115: 20,\n",
       "  116: 27,\n",
       "  117: 30,\n",
       "  118: 25,\n",
       "  119: 29},\n",
       " 'gender': {0: 'M',\n",
       "  1: 'W',\n",
       "  2: 'M',\n",
       "  3: 'M',\n",
       "  4: 'M',\n",
       "  5: 'M',\n",
       "  6: 'M',\n",
       "  7: 'M',\n",
       "  8: 'M',\n",
       "  9: 'W',\n",
       "  10: 'M',\n",
       "  11: 'W',\n",
       "  12: 'W',\n",
       "  13: 'W',\n",
       "  14: 'W',\n",
       "  15: 'M',\n",
       "  16: 'W',\n",
       "  17: 'W',\n",
       "  18: 'W',\n",
       "  19: 'W',\n",
       "  20: \"'W'\",\n",
       "  21: 'M',\n",
       "  22: 'W',\n",
       "  23: 'M',\n",
       "  24: 'W',\n",
       "  25: 'W',\n",
       "  26: 'W',\n",
       "  27: 'W',\n",
       "  28: 'M',\n",
       "  29: 'W',\n",
       "  30: 'M',\n",
       "  31: 'M',\n",
       "  32: 'W',\n",
       "  33: 'W',\n",
       "  34: 'W',\n",
       "  35: 'M',\n",
       "  36: 'M',\n",
       "  37: 'W',\n",
       "  38: 'W',\n",
       "  39: 'M',\n",
       "  40: 'W',\n",
       "  41: 'M',\n",
       "  42: 'W',\n",
       "  43: 'W',\n",
       "  44: 'M',\n",
       "  45: 'M',\n",
       "  46: 'M',\n",
       "  47: 'M',\n",
       "  48: 'W',\n",
       "  49: 'W',\n",
       "  50: 'W',\n",
       "  51: 'M',\n",
       "  52: 'M',\n",
       "  53: 'W',\n",
       "  54: 'M',\n",
       "  55: 'M',\n",
       "  56: 'W',\n",
       "  57: 'W',\n",
       "  58: 'M',\n",
       "  59: 'M',\n",
       "  60: 'W',\n",
       "  61: 'W',\n",
       "  62: 'M',\n",
       "  63: 'M',\n",
       "  64: 'W',\n",
       "  65: 'M',\n",
       "  66: 'W',\n",
       "  67: 'M',\n",
       "  68: 'M',\n",
       "  69: 'W',\n",
       "  70: 'W',\n",
       "  71: 'W',\n",
       "  72: 'W',\n",
       "  73: 'W',\n",
       "  74: 'W',\n",
       "  75: 'W',\n",
       "  76: 'M',\n",
       "  77: 'W',\n",
       "  78: 'W',\n",
       "  79: 'M',\n",
       "  80: 'W',\n",
       "  81: 'M',\n",
       "  82: 'M',\n",
       "  83: 'M',\n",
       "  84: 'M',\n",
       "  85: 'M',\n",
       "  86: 'M',\n",
       "  87: 'M',\n",
       "  88: 'W',\n",
       "  89: 'M',\n",
       "  90: 'M',\n",
       "  91: 'W',\n",
       "  92: 'M',\n",
       "  93: 'W',\n",
       "  94: 'W',\n",
       "  95: 'W',\n",
       "  96: 'W',\n",
       "  97: 'W',\n",
       "  98: 'M',\n",
       "  99: 'M',\n",
       "  100: 'W',\n",
       "  101: 'W',\n",
       "  102: 'W',\n",
       "  103: 'M',\n",
       "  104: 'M',\n",
       "  105: 'M',\n",
       "  106: 'M',\n",
       "  107: 'M',\n",
       "  108: 'M',\n",
       "  109: 'M',\n",
       "  110: 'M',\n",
       "  111: 'M',\n",
       "  112: 'M',\n",
       "  113: 'M',\n",
       "  114: 'M',\n",
       "  115: 'M',\n",
       "  116: 'M',\n",
       "  117: 'M',\n",
       "  118: 'M',\n",
       "  119: 'M'}}"
      ]
     },
     "execution_count": 78,
     "metadata": {},
     "output_type": "execute_result"
    }
   ],
   "source": [
    "df.to_"
   ]
  },
  {
   "cell_type": "code",
   "execution_count": null,
   "id": "9c95c202",
   "metadata": {},
   "outputs": [],
   "source": []
  }
 ],
 "metadata": {
  "kernelspec": {
   "display_name": "Python 3 (ipykernel)",
   "language": "python",
   "name": "python3"
  },
  "language_info": {
   "codemirror_mode": {
    "name": "ipython",
    "version": 3
   },
   "file_extension": ".py",
   "mimetype": "text/x-python",
   "name": "python",
   "nbconvert_exporter": "python",
   "pygments_lexer": "ipython3",
   "version": "3.10.2"
  }
 },
 "nbformat": 4,
 "nbformat_minor": 5
}
